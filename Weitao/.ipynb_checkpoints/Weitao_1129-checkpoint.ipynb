{
 "cells": [
  {
   "cell_type": "code",
   "execution_count": null,
   "metadata": {
    "collapsed": true
   },
   "outputs": [],
   "source": [
    "import pandas as pd\n",
    "\n",
    "population_01 = pd.read_csv(\"../Haichao/2001_predict_backward.csv\")\n",
    "population_02 = pd.read_csv(\"../Haichao/2002_predict_backward.csv\")\n",
    "population_03 = pd.read_csv(\"../Haichao/2003_predict_backward.csv\")\n",
    "population_04 = pd.read_csv(\"../Haichao/2004_predict_backward.csv\")\n",
    "population_05 = pd.read_csv(\"../Haichao/2005_predict_backward.csv\")\n",
    "population_06 = pd.read_csv(\"../Haichao/2006_predict_backward.csv\")\n",
    "population_07 = pd.read_csv(\"../Haichao/2007_predict_backward.csv\")\n",
    "population_08 = pd.read_csv(\"../Haichao/2008_predict_backward.csv\")\n",
    "population_09 = pd.read_csv(\"../Haichao/2009_predict_backward.csv\")\n",
    "population"
   ]
  }
 ],
 "metadata": {
  "anaconda-cloud": {},
  "kernelspec": {
   "display_name": "Python [Root]",
   "language": "python",
   "name": "Python [Root]"
  },
  "language_info": {
   "codemirror_mode": {
    "name": "ipython",
    "version": 3
   },
   "file_extension": ".py",
   "mimetype": "text/x-python",
   "name": "python",
   "nbconvert_exporter": "python",
   "pygments_lexer": "ipython3",
   "version": "3.5.2"
  }
 },
 "nbformat": 4,
 "nbformat_minor": 0
}
