{
 "cells": [
  {
   "cell_type": "code",
   "execution_count": 1,
   "metadata": {
    "collapsed": false
   },
   "outputs": [],
   "source": [
    "import warnings\n",
    "warnings.filterwarnings('ignore')\n",
    "import pandas as pd\n",
    "\n",
    "population_00 = pd.read_csv(\"../Raochuan/nyc_tract_2000.csv\")\n",
    "population_00.drop('Total Population',1,inplace = True)\n",
    "population_00.drop('Median Age',1,inplace = True)\n",
    "population_00.columns.values[1] = '2010 Census Tract'\n",
    "population_00.head()\n",
    "population_01 = pd.read_csv(\"../Haichao/2001_predict_backward.csv\")\n",
    "population_02 = pd.read_csv(\"../Haichao/2002_predict_backward.csv\")\n",
    "population_03 = pd.read_csv(\"../Haichao/2003_predict_backward.csv\")\n",
    "population_04 = pd.read_csv(\"../Haichao/2004_predict_backward.csv\")\n",
    "population_05 = pd.read_csv(\"../Haichao/2005_predict_backward.csv\")\n",
    "population_06 = pd.read_csv(\"../Haichao/2006_predict_backward.csv\")\n",
    "population_07 = pd.read_csv(\"../Haichao/2007_predict_backward.csv\")\n",
    "population_08 = pd.read_csv(\"../Haichao/2008_predict_backward.csv\")\n",
    "population_09 = pd.read_csv(\"../Haichao/2009_predict_backward.csv\",names = population_08.columns.values[2:])\n",
    "population_09.insert(0,'Borough',population_08['Borough'])\n",
    "population_09.insert(1,'2010 Census Tract',population_08['2010 Census Tract'])\n",
    "population_10 = pd.read_csv(\"nyc_tract_2010.csv\")\n",
    "population_10.drop('Total Population',1,inplace = True)\n",
    "population_10.drop('Median Age',1,inplace = True)"
   ]
  },
  {
   "cell_type": "code",
   "execution_count": 3,
   "metadata": {
    "collapsed": false
   },
   "outputs": [
    {
     "data": {
      "text/plain": [
       "2010 Census Tract    float64\n",
       "Under 5 Years         object\n",
       "5-9      Years        object\n",
       "10-14 Years           object\n",
       "dtype: object"
      ]
     },
     "execution_count": 3,
     "metadata": {},
     "output_type": "execute_result"
    }
   ],
   "source": [
    "# The 2000 data is special, so we handle it indepedently\n",
    "raw_data = pd.read_csv(\"../Raochuan/Kth_09_10.csv\")\n",
    "ct_index = raw_data['index']\n",
    "population_00 = population_00.ix[population_00['Borough'] == 'Brooklyn']\n",
    "population_00\n",
    "ct_index[ct_index % 1 != 0]=ct_index*100\n",
    "ct_index = pd.DataFrame(data = ct_index)\n",
    "\n",
    "data_2000 = pd.merge(ct_index,population_00,left_on='index',right_on='2010 Census Tract',how='left')\n",
    "data_2000 = data_2000[['index', 'Under 5 Years', '5-9      Years', '10-14 Years']]\n",
    "for i in range(len(data_2000['index'])):\n",
    "    if (data_2000.iloc[i]['index'] > 1144):\n",
    "        data_2000.set_value(data_2000.index.values[i],'index', data_2000.iloc[i]['index']*0.01)\n",
    "data_2000.columns = ['2010 Census Tract', 'Under 5 Years', '5-9      Years', '10-14 Years']\n",
    "data_2000.fillna(0, inplace = True)\n",
    "data_2000.dtypes"
   ]
  },
  {
   "cell_type": "code",
   "execution_count": 4,
   "metadata": {
    "collapsed": false
   },
   "outputs": [],
   "source": [
    "def filter_brooklyn_20(yearly_data):\n",
    "    yearly_data = yearly_data.ix[yearly_data['Borough'] == 'Brooklyn']\n",
    "    yearly_data['2010 Census Tract'] = [x / 100 for x in yearly_data['2010 Census Tract']]\n",
    "    raw_data = pd.read_csv(\"../Raochuan/Kth_09_10.csv\")\n",
    "    ct_index = raw_data['index']\n",
    "    yearly_data = yearly_data.ix[yearly_data['2010 Census Tract'].isin(ct_index)]\n",
    "    yearly_data = yearly_data[['2010 Census Tract', 'Under 5 Years', '5-9      Years', '10-14 Years']]\n",
    "    return yearly_data"
   ]
  },
  {
   "cell_type": "code",
   "execution_count": 5,
   "metadata": {
    "collapsed": true
   },
   "outputs": [],
   "source": [
    "data_2001 = filter_brooklyn_20(population_01)\n",
    "data_2002 = filter_brooklyn_20(population_02)\n",
    "data_2003 = filter_brooklyn_20(population_03)\n",
    "data_2004 = filter_brooklyn_20(population_04)\n",
    "data_2005 = filter_brooklyn_20(population_05)\n",
    "data_2006 = filter_brooklyn_20(population_06)\n",
    "data_2007 = filter_brooklyn_20(population_07)\n",
    "data_2008 = filter_brooklyn_20(population_08)\n",
    "data_2009 = filter_brooklyn_20(population_09)\n",
    "data_2010 = filter_brooklyn_20(population_10)"
   ]
  },
  {
   "cell_type": "code",
   "execution_count": 6,
   "metadata": {
    "collapsed": false
   },
   "outputs": [],
   "source": [
    "def diff(former_data, latter_data,year):\n",
    "    diff = pd.DataFrame(columns=['2010 Census Tract', year+'_0-4', year+'_5-9', year+'_10-14'])\n",
    "    diff['2010 Census Tract'] = former_data['2010 Census Tract']\n",
    "    diff[year+'_0-4'] = [a - b for a, b in zip(latter_data['Under 5 Years'], former_data['Under 5 Years'])]\n",
    "    diff[year+'_5-9'] = [a - b for a, b in zip(latter_data['5-9      Years'], former_data['5-9      Years'])]\n",
    "    diff[year+'_10-14'] = [a - b for a, b in zip(latter_data['10-14 Years'], former_data['10-14 Years'])]\n",
    "    return diff"
   ]
  },
  {
   "cell_type": "code",
   "execution_count": 7,
   "metadata": {
    "collapsed": false
   },
   "outputs": [
    {
     "ename": "TypeError",
     "evalue": "'DataFrame' object is not callable",
     "output_type": "error",
     "traceback": [
      "\u001b[0;31m---------------------------------------------------------------------------\u001b[0m",
      "\u001b[0;31mTypeError\u001b[0m                                 Traceback (most recent call last)",
      "\u001b[0;32m<ipython-input-7-0b8c13ab4eba>\u001b[0m in \u001b[0;36m<module>\u001b[0;34m()\u001b[0m\n\u001b[1;32m      2\u001b[0m \u001b[0mdiff\u001b[0m\u001b[0;34m[\u001b[0m\u001b[0;34m'2010 Census Tract'\u001b[0m\u001b[0;34m]\u001b[0m \u001b[0;34m=\u001b[0m \u001b[0mdata_2000\u001b[0m\u001b[0;34m[\u001b[0m\u001b[0;34m'2010 Census Tract'\u001b[0m\u001b[0;34m]\u001b[0m\u001b[0;34m\u001b[0m\u001b[0m\n\u001b[1;32m      3\u001b[0m \u001b[0mdata_2000\u001b[0m \u001b[0;34m=\u001b[0m \u001b[0mdata_2000\u001b[0m\u001b[0;34m.\u001b[0m\u001b[0mconvert_objects\u001b[0m\u001b[0;34m(\u001b[0m\u001b[0mconvert_numeric\u001b[0m\u001b[0;34m=\u001b[0m\u001b[0;32mTrue\u001b[0m\u001b[0;34m)\u001b[0m\u001b[0;34m\u001b[0m\u001b[0m\n\u001b[0;32m----> 4\u001b[0;31m \u001b[0ma\u001b[0m \u001b[0;34m=\u001b[0m \u001b[0mdiff\u001b[0m\u001b[0;34m(\u001b[0m\u001b[0mdata_2000\u001b[0m\u001b[0;34m,\u001b[0m\u001b[0mdata_2001\u001b[0m\u001b[0;34m,\u001b[0m\u001b[0;34m\"20002001\"\u001b[0m\u001b[0;34m)\u001b[0m\u001b[0;34m\u001b[0m\u001b[0m\n\u001b[0m\u001b[1;32m      5\u001b[0m \u001b[0ma\u001b[0m\u001b[0;34m.\u001b[0m\u001b[0mhead\u001b[0m\u001b[0;34m(\u001b[0m\u001b[0;34m)\u001b[0m\u001b[0;34m\u001b[0m\u001b[0m\n",
      "\u001b[0;31mTypeError\u001b[0m: 'DataFrame' object is not callable"
     ]
    }
   ],
   "source": [
    "diff = pd.DataFrame(columns=['2010 Census Tract', '_0-4', '_5-9', '_10-14'])\n",
    "diff['2010 Census Tract'] = data_2000['2010 Census Tract']\n",
    "data_2000 = data_2000.convert_objects(convert_numeric=True)\n",
    "a = diff(data_2000,data_2001,\"20002001\")\n",
    "a.head()"
   ]
  },
  {
   "cell_type": "code",
   "execution_count": null,
   "metadata": {
    "collapsed": false
   },
   "outputs": [],
   "source": [
    "data_2001.head()"
   ]
  },
  {
   "cell_type": "code",
   "execution_count": null,
   "metadata": {
    "collapsed": false
   },
   "outputs": [],
   "source": [
    "data_2000.head()"
   ]
  },
  {
   "cell_type": "code",
   "execution_count": 9,
   "metadata": {
    "collapsed": false
   },
   "outputs": [
    {
     "ename": "TypeError",
     "evalue": "'DataFrame' object is not callable",
     "output_type": "error",
     "traceback": [
      "\u001b[0;31m---------------------------------------------------------------------------\u001b[0m",
      "\u001b[0;31mTypeError\u001b[0m                                 Traceback (most recent call last)",
      "\u001b[0;32m<ipython-input-9-da5a871d7853>\u001b[0m in \u001b[0;36m<module>\u001b[0;34m()\u001b[0m\n\u001b[0;32m----> 1\u001b[0;31m \u001b[0mdiff\u001b[0m\u001b[0;34m(\u001b[0m\u001b[0mdata_2001\u001b[0m\u001b[0;34m,\u001b[0m \u001b[0mdata_2002\u001b[0m\u001b[0;34m,\u001b[0m \u001b[0;34m\"20012002\"\u001b[0m\u001b[0;34m)\u001b[0m\u001b[0;34m\u001b[0m\u001b[0m\n\u001b[0m\u001b[1;32m      2\u001b[0m \u001b[0mdiff20022003\u001b[0m \u001b[0;34m=\u001b[0m \u001b[0mdiff\u001b[0m\u001b[0;34m(\u001b[0m\u001b[0mdata_2002\u001b[0m\u001b[0;34m,\u001b[0m \u001b[0mdata_2003\u001b[0m\u001b[0;34m,\u001b[0m \u001b[0;34m\"20022003\"\u001b[0m\u001b[0;34m)\u001b[0m\u001b[0;34m\u001b[0m\u001b[0m\n\u001b[1;32m      3\u001b[0m \u001b[0mdiff20032004\u001b[0m \u001b[0;34m=\u001b[0m \u001b[0mdiff\u001b[0m\u001b[0;34m(\u001b[0m\u001b[0mdata_2003\u001b[0m\u001b[0;34m,\u001b[0m \u001b[0mdata_2004\u001b[0m\u001b[0;34m,\u001b[0m \u001b[0;34m\"20032004\"\u001b[0m\u001b[0;34m)\u001b[0m\u001b[0;34m\u001b[0m\u001b[0m\n\u001b[1;32m      4\u001b[0m \u001b[0mdiff20042005\u001b[0m \u001b[0;34m=\u001b[0m \u001b[0mdiff\u001b[0m\u001b[0;34m(\u001b[0m\u001b[0mdata_2004\u001b[0m\u001b[0;34m,\u001b[0m \u001b[0mdata_2005\u001b[0m\u001b[0;34m,\u001b[0m \u001b[0;34m\"20042005\"\u001b[0m\u001b[0;34m)\u001b[0m\u001b[0;34m\u001b[0m\u001b[0m\n\u001b[1;32m      5\u001b[0m \u001b[0mdiff20052006\u001b[0m \u001b[0;34m=\u001b[0m \u001b[0mdiff\u001b[0m\u001b[0;34m(\u001b[0m\u001b[0mdata_2005\u001b[0m\u001b[0;34m,\u001b[0m \u001b[0mdata_2006\u001b[0m\u001b[0;34m,\u001b[0m \u001b[0;34m\"20052006\"\u001b[0m\u001b[0;34m)\u001b[0m\u001b[0;34m\u001b[0m\u001b[0m\n",
      "\u001b[0;31mTypeError\u001b[0m: 'DataFrame' object is not callable"
     ]
    }
   ],
   "source": [
    "diff20012002 = diff(data_2001, data_2002, \"20012002\")\n",
    "diff20022003 = diff(data_2002, data_2003, \"20022003\")\n",
    "diff20032004 = diff(data_2003, data_2004, \"20032004\")\n",
    "diff20042005 = diff(data_2004, data_2005, \"20042005\")\n",
    "diff20052006 = diff(data_2005, data_2006, \"20052006\")\n",
    "diff20062007 = diff(data_2006, data_2007, \"20062007\")\n",
    "diff20072008 = diff(data_2007, data_2008, \"20072008\")\n",
    "diff20082009 = diff(data_2008, data_2009, \"20082009\")\n",
    "diff20092010 = diff(data_2009, data_2010, \"20092010\")\n",
    "\n",
    "diff20012002.head()"
   ]
  },
  {
   "cell_type": "code",
   "execution_count": null,
   "metadata": {
    "collapsed": false
   },
   "outputs": [],
   "source": [
    "data = raw_data[['index']]\n",
    "data.columns=['2010 Census Tract']\n",
    "data['Wht%'] = raw_data['White'] / raw_data['total']\n",
    "data['Blc%'] = raw_data.iloc[:,6] / raw_data['total']\n",
    "data['Ind%'] = raw_data.iloc[:,7] / raw_data['total']\n",
    "data['Asn%'] = raw_data.iloc[:,8] / raw_data['total']\n",
    "data['Mix%'] = raw_data.iloc[:,11] / raw_data['total']\n",
    "data['His%'] = raw_data.iloc[:,12] / raw_data['total']\n",
    "\n",
    "data.head()\n"
   ]
  },
  {
   "cell_type": "code",
   "execution_count": null,
   "metadata": {
    "collapsed": true
   },
   "outputs": [],
   "source": [
    "def insert_data(integrated_data, insert_data):\n",
    "    integrated_data[insert_data.columns[1]] = insert_data.iloc[:,1]\n",
    "    integrated_data[insert_data.columns[2]] = insert_data.iloc[:,2]\n",
    "    integrated_data[insert_data.columns[3]] = insert_data.iloc[:,3]\n",
    "    print(integrated_data)\n",
    "    return integrated_data"
   ]
  },
  {
   "cell_type": "code",
   "execution_count": null,
   "metadata": {
    "collapsed": false
   },
   "outputs": [],
   "source": [
    "new = pd.merge(data,diff20012002,how='left',on='2010 Census Tract')\n",
    "new = pd.merge(new,diff20022003,how='left',on='2010 Census Tract')\n",
    "new = pd.merge(new,diff20032004,how='left',on='2010 Census Tract')\n",
    "new = pd.merge(new,diff20042005,how='left',on='2010 Census Tract')\n",
    "new = pd.merge(new,diff20052006,how='left',on='2010 Census Tract')\n",
    "new = pd.merge(new,diff20062007,how='left',on='2010 Census Tract')\n",
    "new = pd.merge(new,diff20072008,how='left',on='2010 Census Tract')\n",
    "new = pd.merge(new,diff20082009,how='left',on='2010 Census Tract')\n",
    "new = pd.merge(new,diff20092010,how='left',on='2010 Census Tract')\n",
    "new.to_csv(\"CTdata.csv\")"
   ]
  },
  {
   "cell_type": "code",
   "execution_count": null,
   "metadata": {
    "collapsed": false
   },
   "outputs": [],
   "source": [
    "new.head()"
   ]
  },
  {
   "cell_type": "code",
   "execution_count": null,
   "metadata": {
    "collapsed": true
   },
   "outputs": [],
   "source": []
  }
 ],
 "metadata": {
  "anaconda-cloud": {},
  "kernelspec": {
   "display_name": "Python [Root]",
   "language": "python",
   "name": "Python [Root]"
  },
  "language_info": {
   "codemirror_mode": {
    "name": "ipython",
    "version": 3
   },
   "file_extension": ".py",
   "mimetype": "text/x-python",
   "name": "python",
   "nbconvert_exporter": "python",
   "pygments_lexer": "ipython3",
   "version": "3.5.2"
  }
 },
 "nbformat": 4,
 "nbformat_minor": 0
}
