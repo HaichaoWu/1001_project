{
 "cells": [
  {
   "cell_type": "code",
   "execution_count": 1,
   "metadata": {
    "collapsed": false
   },
   "outputs": [
    {
     "data": {
      "text/html": [
       "<div>\n",
       "<table border=\"1\" class=\"dataframe\">\n",
       "  <thead>\n",
       "    <tr style=\"text-align: right;\">\n",
       "      <th></th>\n",
       "      <th>index</th>\n",
       "      <th>School Year</th>\n",
       "      <th>Grade Level</th>\n",
       "      <th>Count of Students</th>\n",
       "      <th>total</th>\n",
       "      <th>White</th>\n",
       "      <th>Black/ African American</th>\n",
       "      <th>American Indian and Alaska Native</th>\n",
       "      <th>Asian</th>\n",
       "      <th>Native Hawaiian and Other Pacific Islander</th>\n",
       "      <th>...</th>\n",
       "      <th>10 &amp; 11 Years</th>\n",
       "      <th>12 &amp; 13 Years</th>\n",
       "      <th>14 Years</th>\n",
       "      <th>15 Years</th>\n",
       "      <th>16 Years</th>\n",
       "      <th>17 Years</th>\n",
       "      <th>18 Years</th>\n",
       "      <th>19 Years</th>\n",
       "      <th>20 Years</th>\n",
       "      <th>21 Years</th>\n",
       "    </tr>\n",
       "  </thead>\n",
       "  <tbody>\n",
       "    <tr>\n",
       "      <th>0</th>\n",
       "      <td>18.0</td>\n",
       "      <td>20092010</td>\n",
       "      <td>K</td>\n",
       "      <td>0.0</td>\n",
       "      <td>3.0</td>\n",
       "      <td>0.0</td>\n",
       "      <td>1.0</td>\n",
       "      <td>0.0</td>\n",
       "      <td>0.0</td>\n",
       "      <td>0.0</td>\n",
       "      <td>...</td>\n",
       "      <td>1.0</td>\n",
       "      <td>0.0</td>\n",
       "      <td>0.0</td>\n",
       "      <td>0.0</td>\n",
       "      <td>1.0</td>\n",
       "      <td>0.0</td>\n",
       "      <td>4.0</td>\n",
       "      <td>13.0</td>\n",
       "      <td>20.0</td>\n",
       "      <td>38.0</td>\n",
       "    </tr>\n",
       "    <tr>\n",
       "      <th>1</th>\n",
       "      <td>20.0</td>\n",
       "      <td>20092010</td>\n",
       "      <td>K</td>\n",
       "      <td>6.0</td>\n",
       "      <td>476.0</td>\n",
       "      <td>10.0</td>\n",
       "      <td>6.0</td>\n",
       "      <td>3.0</td>\n",
       "      <td>20.0</td>\n",
       "      <td>0.0</td>\n",
       "      <td>...</td>\n",
       "      <td>53.0</td>\n",
       "      <td>42.0</td>\n",
       "      <td>25.0</td>\n",
       "      <td>22.0</td>\n",
       "      <td>27.0</td>\n",
       "      <td>26.0</td>\n",
       "      <td>45.0</td>\n",
       "      <td>31.0</td>\n",
       "      <td>28.0</td>\n",
       "      <td>34.0</td>\n",
       "    </tr>\n",
       "    <tr>\n",
       "      <th>2</th>\n",
       "      <td>22.0</td>\n",
       "      <td>20092010</td>\n",
       "      <td>K</td>\n",
       "      <td>53.0</td>\n",
       "      <td>982.0</td>\n",
       "      <td>68.0</td>\n",
       "      <td>29.0</td>\n",
       "      <td>4.0</td>\n",
       "      <td>81.0</td>\n",
       "      <td>0.0</td>\n",
       "      <td>...</td>\n",
       "      <td>83.0</td>\n",
       "      <td>88.0</td>\n",
       "      <td>45.0</td>\n",
       "      <td>54.0</td>\n",
       "      <td>60.0</td>\n",
       "      <td>68.0</td>\n",
       "      <td>58.0</td>\n",
       "      <td>66.0</td>\n",
       "      <td>54.0</td>\n",
       "      <td>77.0</td>\n",
       "    </tr>\n",
       "    <tr>\n",
       "      <th>3</th>\n",
       "      <td>30.0</td>\n",
       "      <td>20092010</td>\n",
       "      <td>K</td>\n",
       "      <td>11.0</td>\n",
       "      <td>362.0</td>\n",
       "      <td>194.0</td>\n",
       "      <td>9.0</td>\n",
       "      <td>0.0</td>\n",
       "      <td>47.0</td>\n",
       "      <td>0.0</td>\n",
       "      <td>...</td>\n",
       "      <td>42.0</td>\n",
       "      <td>36.0</td>\n",
       "      <td>20.0</td>\n",
       "      <td>18.0</td>\n",
       "      <td>24.0</td>\n",
       "      <td>21.0</td>\n",
       "      <td>15.0</td>\n",
       "      <td>19.0</td>\n",
       "      <td>20.0</td>\n",
       "      <td>23.0</td>\n",
       "    </tr>\n",
       "    <tr>\n",
       "      <th>4</th>\n",
       "      <td>34.0</td>\n",
       "      <td>20092010</td>\n",
       "      <td>K</td>\n",
       "      <td>25.0</td>\n",
       "      <td>547.0</td>\n",
       "      <td>306.0</td>\n",
       "      <td>0.0</td>\n",
       "      <td>0.0</td>\n",
       "      <td>102.0</td>\n",
       "      <td>0.0</td>\n",
       "      <td>...</td>\n",
       "      <td>61.0</td>\n",
       "      <td>48.0</td>\n",
       "      <td>23.0</td>\n",
       "      <td>23.0</td>\n",
       "      <td>33.0</td>\n",
       "      <td>20.0</td>\n",
       "      <td>29.0</td>\n",
       "      <td>25.0</td>\n",
       "      <td>28.0</td>\n",
       "      <td>35.0</td>\n",
       "    </tr>\n",
       "  </tbody>\n",
       "</table>\n",
       "<p>5 rows × 30 columns</p>\n",
       "</div>"
      ],
      "text/plain": [
       "   index  School Year Grade Level  Count of Students  total  White  \\\n",
       "0   18.0     20092010           K                0.0    3.0    0.0   \n",
       "1   20.0     20092010           K                6.0  476.0   10.0   \n",
       "2   22.0     20092010           K               53.0  982.0   68.0   \n",
       "3   30.0     20092010           K               11.0  362.0  194.0   \n",
       "4   34.0     20092010           K               25.0  547.0  306.0   \n",
       "\n",
       "      Black/ African American       American Indian and Alaska Native  \\\n",
       "0                         1.0                                     0.0   \n",
       "1                         6.0                                     3.0   \n",
       "2                        29.0                                     4.0   \n",
       "3                         9.0                                     0.0   \n",
       "4                         0.0                                     0.0   \n",
       "\n",
       "         Asian  Native Hawaiian and Other Pacific Islander    ...     \\\n",
       "0          0.0                                         0.0    ...      \n",
       "1         20.0                                         0.0    ...      \n",
       "2         81.0                                         0.0    ...      \n",
       "3         47.0                                         0.0    ...      \n",
       "4        102.0                                         0.0    ...      \n",
       "\n",
       "   10 & 11 Years  12 & 13 Years  14 Years  15 Years  16 Years  17 Years  \\\n",
       "0            1.0            0.0       0.0       0.0       1.0       0.0   \n",
       "1           53.0           42.0      25.0      22.0      27.0      26.0   \n",
       "2           83.0           88.0      45.0      54.0      60.0      68.0   \n",
       "3           42.0           36.0      20.0      18.0      24.0      21.0   \n",
       "4           61.0           48.0      23.0      23.0      33.0      20.0   \n",
       "\n",
       "   18 Years  19 Years  20 Years  21 Years  \n",
       "0       4.0      13.0      20.0      38.0  \n",
       "1      45.0      31.0      28.0      34.0  \n",
       "2      58.0      66.0      54.0      77.0  \n",
       "3      15.0      19.0      20.0      23.0  \n",
       "4      29.0      25.0      28.0      35.0  \n",
       "\n",
       "[5 rows x 30 columns]"
      ]
     },
     "execution_count": 1,
     "metadata": {},
     "output_type": "execute_result"
    }
   ],
   "source": [
    "import warnings\n",
    "warnings.filterwarnings('ignore')\n",
    "import numpy as np\n",
    "import pandas as pd\n",
    "raw_data = pd.read_csv(\"../Raochuan/Kth_09_10.csv\")\n",
    "raw_data.head()"
   ]
  },
  {
   "cell_type": "code",
   "execution_count": 2,
   "metadata": {
    "collapsed": false
   },
   "outputs": [
    {
     "data": {
      "text/html": [
       "<div>\n",
       "<table border=\"1\" class=\"dataframe\">\n",
       "  <thead>\n",
       "    <tr style=\"text-align: right;\">\n",
       "      <th></th>\n",
       "      <th>index</th>\n",
       "      <th>Count of Students</th>\n",
       "      <th>Wht%</th>\n",
       "      <th>Blc%</th>\n",
       "      <th>Ind%</th>\n",
       "      <th>Asn%</th>\n",
       "      <th>Mix%</th>\n",
       "      <th>His%</th>\n",
       "      <th>Age3to4</th>\n",
       "      <th>Age5</th>\n",
       "      <th>Age6</th>\n",
       "      <th>Age7to9</th>\n",
       "    </tr>\n",
       "  </thead>\n",
       "  <tbody>\n",
       "    <tr>\n",
       "      <th>0</th>\n",
       "      <td>18.0</td>\n",
       "      <td>0.0</td>\n",
       "      <td>0.000000</td>\n",
       "      <td>0.333333</td>\n",
       "      <td>0.000000</td>\n",
       "      <td>0.000000</td>\n",
       "      <td>0.000000</td>\n",
       "      <td>0.666667</td>\n",
       "      <td>0.000000</td>\n",
       "      <td>0.000000</td>\n",
       "      <td>0.000000</td>\n",
       "      <td>0.000000</td>\n",
       "    </tr>\n",
       "    <tr>\n",
       "      <th>1</th>\n",
       "      <td>20.0</td>\n",
       "      <td>6.0</td>\n",
       "      <td>0.021008</td>\n",
       "      <td>0.012605</td>\n",
       "      <td>0.006303</td>\n",
       "      <td>0.042017</td>\n",
       "      <td>0.006303</td>\n",
       "      <td>0.909664</td>\n",
       "      <td>0.081433</td>\n",
       "      <td>0.043974</td>\n",
       "      <td>0.048860</td>\n",
       "      <td>0.138436</td>\n",
       "    </tr>\n",
       "    <tr>\n",
       "      <th>2</th>\n",
       "      <td>22.0</td>\n",
       "      <td>53.0</td>\n",
       "      <td>0.069246</td>\n",
       "      <td>0.029532</td>\n",
       "      <td>0.004073</td>\n",
       "      <td>0.082485</td>\n",
       "      <td>0.020367</td>\n",
       "      <td>0.787169</td>\n",
       "      <td>0.095392</td>\n",
       "      <td>0.050121</td>\n",
       "      <td>0.040420</td>\n",
       "      <td>0.130154</td>\n",
       "    </tr>\n",
       "    <tr>\n",
       "      <th>3</th>\n",
       "      <td>30.0</td>\n",
       "      <td>11.0</td>\n",
       "      <td>0.535912</td>\n",
       "      <td>0.024862</td>\n",
       "      <td>0.000000</td>\n",
       "      <td>0.129834</td>\n",
       "      <td>0.082873</td>\n",
       "      <td>0.226519</td>\n",
       "      <td>0.102506</td>\n",
       "      <td>0.045558</td>\n",
       "      <td>0.031891</td>\n",
       "      <td>0.134396</td>\n",
       "    </tr>\n",
       "    <tr>\n",
       "      <th>4</th>\n",
       "      <td>34.0</td>\n",
       "      <td>25.0</td>\n",
       "      <td>0.559415</td>\n",
       "      <td>0.000000</td>\n",
       "      <td>0.000000</td>\n",
       "      <td>0.186472</td>\n",
       "      <td>0.047532</td>\n",
       "      <td>0.206581</td>\n",
       "      <td>0.094880</td>\n",
       "      <td>0.052711</td>\n",
       "      <td>0.043675</td>\n",
       "      <td>0.146084</td>\n",
       "    </tr>\n",
       "  </tbody>\n",
       "</table>\n",
       "</div>"
      ],
      "text/plain": [
       "   index  Count of Students      Wht%      Blc%      Ind%      Asn%      Mix%  \\\n",
       "0   18.0                0.0  0.000000  0.333333  0.000000  0.000000  0.000000   \n",
       "1   20.0                6.0  0.021008  0.012605  0.006303  0.042017  0.006303   \n",
       "2   22.0               53.0  0.069246  0.029532  0.004073  0.082485  0.020367   \n",
       "3   30.0               11.0  0.535912  0.024862  0.000000  0.129834  0.082873   \n",
       "4   34.0               25.0  0.559415  0.000000  0.000000  0.186472  0.047532   \n",
       "\n",
       "       His%   Age3to4      Age5      Age6   Age7to9  \n",
       "0  0.666667  0.000000  0.000000  0.000000  0.000000  \n",
       "1  0.909664  0.081433  0.043974  0.048860  0.138436  \n",
       "2  0.787169  0.095392  0.050121  0.040420  0.130154  \n",
       "3  0.226519  0.102506  0.045558  0.031891  0.134396  \n",
       "4  0.206581  0.094880  0.052711  0.043675  0.146084  "
      ]
     },
     "execution_count": 2,
     "metadata": {},
     "output_type": "execute_result"
    }
   ],
   "source": [
    "data = raw_data[['index','Count of Students']]\n",
    "data['Wht%'] = raw_data['White'] / raw_data['total']\n",
    "data['Blc%'] = raw_data.iloc[:,6] / raw_data['total']\n",
    "data['Ind%'] = raw_data.iloc[:,7] / raw_data['total']\n",
    "data['Asn%'] = raw_data.iloc[:,8] / raw_data['total']\n",
    "data['Mix%'] = raw_data.iloc[:,11] / raw_data['total']\n",
    "data['His%'] = raw_data.iloc[:,12] / raw_data['total']\n",
    "data['Age3to4'] = raw_data.iloc[:,16] / raw_data.iloc[:,13]\n",
    "data['Age5'] = raw_data.iloc[:,17] / raw_data.iloc[:,13]\n",
    "data['Age6'] = raw_data.iloc[:,18] / raw_data.iloc[:,13]\n",
    "data['Age7to9'] = raw_data.iloc[:,19] / raw_data.iloc[:,13]\n",
    "data.head()"
   ]
  },
  {
   "cell_type": "code",
   "execution_count": 3,
   "metadata": {
    "collapsed": false
   },
   "outputs": [],
   "source": [
    "import sklearn.linear_model\n",
    "msk = np.random.rand(len(data)) < 0.7\n",
    "X_train = data[msk].drop('Count of Students',1)\n",
    "y_train = data[msk]['Count of Students']\n",
    "X_test = data[~msk].drop('Count of Students',1)\n",
    "y_test = data[~msk]['Count of Students']"
   ]
  },
  {
   "cell_type": "code",
   "execution_count": 4,
   "metadata": {
    "collapsed": true
   },
   "outputs": [],
   "source": [
    "def mean_rela_abs_error(ser_true, ser_pred):\n",
    "    return np.median(np.abs((ser_pred-ser_true)/ser_true))"
   ]
  },
  {
   "cell_type": "code",
   "execution_count": 37,
   "metadata": {
    "collapsed": false
   },
   "outputs": [],
   "source": [
    "#Simple linear model outperforms any lasso regression regardless of the alpha coefficient based on R-square and MRAE\n",
    "lModel = sklearn.linear_model.LinearRegression()\n",
    "lModel.fit(X_train, y_train)\n",
    "train_pred = lModel.predict(X_train)\n",
    "vali_pred = lModel.predict(X_test)\n",
    "train_MRAE = mean_rela_abs_error(y_train, train_pred)\n",
    "vali_MRAE = mean_rela_abs_error(y_test, vali_pred)"
   ]
  },
  {
   "cell_type": "code",
   "execution_count": 38,
   "metadata": {
    "collapsed": false
   },
   "outputs": [
    {
     "data": {
      "text/plain": [
       "0.32584620579823975"
      ]
     },
     "execution_count": 38,
     "metadata": {},
     "output_type": "execute_result"
    }
   ],
   "source": [
    "# R-square of linear model\n",
    "lModel.score(X_train, y_train)"
   ]
  },
  {
   "cell_type": "code",
   "execution_count": 34,
   "metadata": {
    "collapsed": false
   },
   "outputs": [
    {
     "data": {
      "text/plain": [
       "[0.66722057757716269, 0.52591631945613992]"
      ]
     },
     "execution_count": 34,
     "metadata": {},
     "output_type": "execute_result"
    }
   ],
   "source": [
    "[train_MRAE, vali_MRAE]"
   ]
  },
  {
   "cell_type": "code",
   "execution_count": 45,
   "metadata": {
    "collapsed": true
   },
   "outputs": [],
   "source": [
    "import sklearn.neural_network\n",
    "nnModel = sklearn.neural_network.MLPRegressor(alpha=0.1)\n",
    "nnModel.fit(X_train, y_train)\n",
    "train_pred = nnModel.predict(X_train)\n",
    "vali_pred = nnModel.predict(X_test)\n",
    "train_MRAE = mean_rela_abs_error(y_train, train_pred)\n",
    "vali_MRAE = mean_rela_abs_error(y_test, vali_pred)"
   ]
  },
  {
   "cell_type": "code",
   "execution_count": 46,
   "metadata": {
    "collapsed": false
   },
   "outputs": [
    {
     "data": {
      "text/plain": [
       "-0.69612659689499257"
      ]
     },
     "execution_count": 46,
     "metadata": {},
     "output_type": "execute_result"
    }
   ],
   "source": [
    "nnModel.score(X_train, y_train)"
   ]
  },
  {
   "cell_type": "code",
   "execution_count": 47,
   "metadata": {
    "collapsed": false
   },
   "outputs": [
    {
     "data": {
      "text/plain": [
       "[0.8679236212695558, 0.89766164053858688]"
      ]
     },
     "execution_count": 47,
     "metadata": {},
     "output_type": "execute_result"
    }
   ],
   "source": [
    "[train_MRAE, vali_MRAE]"
   ]
  },
  {
   "cell_type": "code",
   "execution_count": null,
   "metadata": {
    "collapsed": true
   },
   "outputs": [],
   "source": []
  }
 ],
 "metadata": {
  "anaconda-cloud": {},
  "kernelspec": {
   "display_name": "Python [Root]",
   "language": "python",
   "name": "Python [Root]"
  },
  "language_info": {
   "codemirror_mode": {
    "name": "ipython",
    "version": 3
   },
   "file_extension": ".py",
   "mimetype": "text/x-python",
   "name": "python",
   "nbconvert_exporter": "python",
   "pygments_lexer": "ipython3",
   "version": "3.5.2"
  }
 },
 "nbformat": 4,
 "nbformat_minor": 0
}
