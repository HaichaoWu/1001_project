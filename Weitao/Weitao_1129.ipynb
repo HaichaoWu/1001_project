{
 "cells": [
  {
   "cell_type": "code",
   "execution_count": 15,
   "metadata": {
    "collapsed": false
   },
   "outputs": [],
   "source": [
    "import warnings\n",
    "warnings.filterwarnings('ignore')\n",
    "import pandas as pd\n",
    "\n",
    "population_00 = pd.read_csv(\"../Raochuan/nyc_tract_2000.csv\")\n",
    "population_00.drop('Total Population',1,inplace = True)\n",
    "population_00.drop('Median Age',1,inplace = True)\n",
    "population_00.columns.values[1] = '2010 Census Tract'\n",
    "population_00.head()\n",
    "population_01 = pd.read_csv(\"../Haichao/2001_predict_backward.csv\")\n",
    "population_02 = pd.read_csv(\"../Haichao/2002_predict_backward.csv\")\n",
    "population_03 = pd.read_csv(\"../Haichao/2003_predict_backward.csv\")\n",
    "population_04 = pd.read_csv(\"../Haichao/2004_predict_backward.csv\")\n",
    "population_05 = pd.read_csv(\"../Haichao/2005_predict_backward.csv\")\n",
    "population_06 = pd.read_csv(\"../Haichao/2006_predict_backward.csv\")\n",
    "population_07 = pd.read_csv(\"../Haichao/2007_predict_backward.csv\")\n",
    "population_08 = pd.read_csv(\"../Haichao/2008_predict_backward.csv\")\n",
    "population_09 = pd.read_csv(\"../Haichao/2009_predict_backward.csv\",names = population_08.columns.values[2:])\n",
    "population_09.insert(0,'Borough',population_08['Borough'])\n",
    "population_09.insert(1,'2010 Census Tract',population_08['2010 Census Tract'])\n",
    "population_10 = pd.read_csv(\"nyc_tract_2010.csv\")\n",
    "population_10.drop('Total Population',1,inplace = True)\n",
    "population_10.drop('Median Age',1,inplace = True)"
   ]
  },
  {
   "cell_type": "code",
   "execution_count": 16,
   "metadata": {
    "collapsed": false
   },
   "outputs": [
    {
     "data": {
      "text/plain": [
       "2010 Census Tract    float64\n",
       "Under 5 Years         object\n",
       "5-9      Years        object\n",
       "10-14 Years           object\n",
       "dtype: object"
      ]
     },
     "execution_count": 16,
     "metadata": {},
     "output_type": "execute_result"
    }
   ],
   "source": [
    "# The 2000 data is special, so we handle it indepedently\n",
    "raw_data = pd.read_csv(\"../Raochuan/Kth_09_10.csv\")\n",
    "ct_index = raw_data['index']\n",
    "population_00 = population_00.ix[population_00['Borough'] == 'Brooklyn']\n",
    "population_00\n",
    "ct_index[ct_index % 1 != 0]=ct_index*100\n",
    "ct_index = pd.DataFrame(data = ct_index)\n",
    "\n",
    "data_2000 = pd.merge(ct_index,population_00,left_on='index',right_on='2010 Census Tract',how='left')\n",
    "data_2000 = data_2000[['index', 'Under 5 Years', '5-9      Years', '10-14 Years']]\n",
    "for i in range(len(data_2000['index'])):\n",
    "    if (data_2000.iloc[i]['index'] > 1144):\n",
    "        data_2000.set_value(data_2000.index.values[i],'index', data_2000.iloc[i]['index']*0.01)\n",
    "data_2000.columns = ['2010 Census Tract', 'Under 5 Years', '5-9      Years', '10-14 Years']\n",
    "data_2000.fillna(0, inplace = True)\n",
    "data_2000.dtypes"
   ]
  },
  {
   "cell_type": "code",
   "execution_count": 17,
   "metadata": {
    "collapsed": false
   },
   "outputs": [],
   "source": [
    "def filter_brooklyn_20(yearly_data):\n",
    "    yearly_data = yearly_data.ix[yearly_data['Borough'] == 'Brooklyn']\n",
    "    yearly_data['2010 Census Tract'] = [x / 100 for x in yearly_data['2010 Census Tract']]\n",
    "    raw_data = pd.read_csv(\"../Raochuan/Kth_09_10.csv\")\n",
    "    ct_index = raw_data['index']\n",
    "    yearly_data = yearly_data.ix[yearly_data['2010 Census Tract'].isin(ct_index)]\n",
    "    yearly_data = yearly_data[['2010 Census Tract', 'Under 5 Years', '5-9      Years', '10-14 Years']]\n",
    "    return yearly_data"
   ]
  },
  {
   "cell_type": "code",
   "execution_count": 18,
   "metadata": {
    "collapsed": true
   },
   "outputs": [],
   "source": [
    "data_2000 = data_2000.convert_objects(convert_numeric=True)\n",
    "data_2001 = filter_brooklyn_20(population_01)\n",
    "data_2002 = filter_brooklyn_20(population_02)\n",
    "data_2003 = filter_brooklyn_20(population_03)\n",
    "data_2004 = filter_brooklyn_20(population_04)\n",
    "data_2005 = filter_brooklyn_20(population_05)\n",
    "data_2006 = filter_brooklyn_20(population_06)\n",
    "data_2007 = filter_brooklyn_20(population_07)\n",
    "data_2008 = filter_brooklyn_20(population_08)\n",
    "data_2009 = filter_brooklyn_20(population_09)\n",
    "data_2010 = filter_brooklyn_20(population_10)"
   ]
  },
  {
   "cell_type": "code",
   "execution_count": 19,
   "metadata": {
    "collapsed": false
   },
   "outputs": [],
   "source": [
    "def diff(former_data, latter_data,year):\n",
    "    diff = pd.DataFrame(columns=['2010 Census Tract', year+'_0-4', year+'_5-9', year+'_10-14'])\n",
    "    diff['2010 Census Tract'] = former_data['2010 Census Tract']\n",
    "    diff[year+'_0-4'] = [a - b for a, b in zip(latter_data['Under 5 Years'], former_data['Under 5 Years'])]\n",
    "    diff[year+'_5-9'] = [a - b for a, b in zip(latter_data['5-9      Years'], former_data['5-9      Years'])]\n",
    "    diff[year+'_10-14'] = [a - b for a, b in zip(latter_data['10-14 Years'], former_data['10-14 Years'])]\n",
    "    return diff"
   ]
  },
  {
   "cell_type": "code",
   "execution_count": 20,
   "metadata": {
    "collapsed": false
   },
   "outputs": [
    {
     "data": {
      "text/html": [
       "<div>\n",
       "<table border=\"1\" class=\"dataframe\">\n",
       "  <thead>\n",
       "    <tr style=\"text-align: right;\">\n",
       "      <th></th>\n",
       "      <th>2010 Census Tract</th>\n",
       "      <th>20002001_0-4</th>\n",
       "      <th>20002001_5-9</th>\n",
       "      <th>20002001_10-14</th>\n",
       "    </tr>\n",
       "  </thead>\n",
       "  <tbody>\n",
       "    <tr>\n",
       "      <th>0</th>\n",
       "      <td>18.0</td>\n",
       "      <td>-4</td>\n",
       "      <td>-1</td>\n",
       "      <td>1</td>\n",
       "    </tr>\n",
       "    <tr>\n",
       "      <th>1</th>\n",
       "      <td>20.0</td>\n",
       "      <td>4</td>\n",
       "      <td>24</td>\n",
       "      <td>27</td>\n",
       "    </tr>\n",
       "    <tr>\n",
       "      <th>2</th>\n",
       "      <td>22.0</td>\n",
       "      <td>20</td>\n",
       "      <td>19</td>\n",
       "      <td>-22</td>\n",
       "    </tr>\n",
       "    <tr>\n",
       "      <th>3</th>\n",
       "      <td>30.0</td>\n",
       "      <td>-16</td>\n",
       "      <td>-9</td>\n",
       "      <td>10</td>\n",
       "    </tr>\n",
       "    <tr>\n",
       "      <th>4</th>\n",
       "      <td>34.0</td>\n",
       "      <td>20</td>\n",
       "      <td>50</td>\n",
       "      <td>30</td>\n",
       "    </tr>\n",
       "  </tbody>\n",
       "</table>\n",
       "</div>"
      ],
      "text/plain": [
       "   2010 Census Tract  20002001_0-4  20002001_5-9  20002001_10-14\n",
       "0               18.0            -4            -1               1\n",
       "1               20.0             4            24              27\n",
       "2               22.0            20            19             -22\n",
       "3               30.0           -16            -9              10\n",
       "4               34.0            20            50              30"
      ]
     },
     "execution_count": 20,
     "metadata": {},
     "output_type": "execute_result"
    }
   ],
   "source": [
    "diff20002001 = diff(data_2000, data_2001, \"20002001\")\n",
    "diff20012002 = diff(data_2001, data_2002, \"20012002\")\n",
    "diff20022003 = diff(data_2002, data_2003, \"20022003\")\n",
    "diff20032004 = diff(data_2003, data_2004, \"20032004\")\n",
    "diff20042005 = diff(data_2004, data_2005, \"20042005\")\n",
    "diff20052006 = diff(data_2005, data_2006, \"20052006\")\n",
    "diff20062007 = diff(data_2006, data_2007, \"20062007\")\n",
    "diff20072008 = diff(data_2007, data_2008, \"20072008\")\n",
    "diff20082009 = diff(data_2008, data_2009, \"20082009\")\n",
    "diff20092010 = diff(data_2009, data_2010, \"20092010\")\n",
    "\n",
    "diff20002001.head()"
   ]
  },
  {
   "cell_type": "code",
   "execution_count": 21,
   "metadata": {
    "collapsed": false
   },
   "outputs": [],
   "source": [
    "data = raw_data[['index']]\n",
    "for i in range(len(data['index'])):\n",
    "    if (data.iloc[i]['index'] > 1144):\n",
    "        data.set_value(data.index.values[i],'index', data.iloc[i]['index']*0.01)\n",
    "data.columns=['2010 Census Tract']\n",
    "data['Wht%'] = raw_data['White'] / raw_data['total']\n",
    "data['Blc%'] = raw_data.iloc[:,6] / raw_data['total']\n",
    "data['Ind%'] = raw_data.iloc[:,7] / raw_data['total']\n",
    "data['Asn%'] = raw_data.iloc[:,8] / raw_data['total']\n",
    "data['Mix%'] = raw_data.iloc[:,11] / raw_data['total']\n",
    "data['His%'] = raw_data.iloc[:,12] / raw_data['total']\n"
   ]
  },
  {
   "cell_type": "code",
   "execution_count": 22,
   "metadata": {
    "collapsed": true
   },
   "outputs": [],
   "source": [
    "def insert_data(integrated_data, insert_data):\n",
    "    integrated_data[insert_data.columns[1]] = insert_data.iloc[:,1]\n",
    "    integrated_data[insert_data.columns[2]] = insert_data.iloc[:,2]\n",
    "    integrated_data[insert_data.columns[3]] = insert_data.iloc[:,3]\n",
    "    print(integrated_data)\n",
    "    return integrated_data"
   ]
  },
  {
   "cell_type": "code",
   "execution_count": 23,
   "metadata": {
    "collapsed": false
   },
   "outputs": [],
   "source": [
    "new = pd.merge(data,diff20002001,how='left',on='2010 Census Tract')\n",
    "new = pd.merge(new,diff20012002,how='left',on='2010 Census Tract')\n",
    "new = pd.merge(new,diff20022003,how='left',on='2010 Census Tract')\n",
    "new = pd.merge(new,diff20032004,how='left',on='2010 Census Tract')\n",
    "new = pd.merge(new,diff20042005,how='left',on='2010 Census Tract')\n",
    "new = pd.merge(new,diff20052006,how='left',on='2010 Census Tract')\n",
    "new = pd.merge(new,diff20062007,how='left',on='2010 Census Tract')\n",
    "new = pd.merge(new,diff20072008,how='left',on='2010 Census Tract')\n",
    "new = pd.merge(new,diff20082009,how='left',on='2010 Census Tract')\n",
    "new = pd.merge(new,diff20092010,how='left',on='2010 Census Tract')"
   ]
  },
  {
   "cell_type": "code",
   "execution_count": 24,
   "metadata": {
    "collapsed": false
   },
   "outputs": [
    {
     "data": {
      "text/plain": [
       "(157, 37)"
      ]
     },
     "execution_count": 24,
     "metadata": {},
     "output_type": "execute_result"
    }
   ],
   "source": [
    "new.shape"
   ]
  },
  {
   "cell_type": "code",
   "execution_count": 25,
   "metadata": {
    "collapsed": false
   },
   "outputs": [],
   "source": [
    "population_11 = pd.read_csv(\"../Haichao/2011_predict.csv\")\n",
    "population_12 = pd.read_csv(\"../Haichao/2012_predict.csv\")\n",
    "population_13 = pd.read_csv(\"../Haichao/2013_predict.csv\")\n",
    "population_14 = pd.read_csv(\"../Haichao/2014_predict.csv\")\n",
    "population_15 = pd.read_csv(\"../Haichao/2015_predict.csv\")\n",
    "population_16 = pd.read_csv(\"../Haichao/2016_predict.csv\")\n",
    "population_17 = pd.read_csv(\"../Haichao/2017_predict.csv\")\n",
    "population_18 = pd.read_csv(\"../Haichao/2018_predict.csv\")\n",
    "data_2011 = filter_brooklyn_20(population_11)\n",
    "data_2012 = filter_brooklyn_20(population_12)\n",
    "data_2013 = filter_brooklyn_20(population_13)\n",
    "data_2014 = filter_brooklyn_20(population_14)\n",
    "data_2015 = filter_brooklyn_20(population_15)\n",
    "data_2016 = filter_brooklyn_20(population_16)\n",
    "data_2017 = filter_brooklyn_20(population_17)\n",
    "data_2018 = filter_brooklyn_20(population_18)\n",
    "diff20102011 = diff(data_2010, data_2011, \"20102011\")\n",
    "diff20112012 = diff(data_2011, data_2012, \"20112012\")\n",
    "diff20122013 = diff(data_2012, data_2013, \"20122013\")\n",
    "diff20132014 = diff(data_2013, data_2014, \"20132014\")\n",
    "diff20142015 = diff(data_2014, data_2015, \"20142015\")\n",
    "diff20152016 = diff(data_2015, data_2016, \"20152016\")\n",
    "diff20162017 = diff(data_2016, data_2017, \"20162017\")\n",
    "diff20172018 = diff(data_2017, data_2018, \"20172018\")\n",
    "new = pd.merge(new,diff20102011,how='left',on='2010 Census Tract')\n",
    "new = pd.merge(new,diff20112012,how='left',on='2010 Census Tract')\n",
    "new = pd.merge(new,diff20122013,how='left',on='2010 Census Tract')\n",
    "new = pd.merge(new,diff20132014,how='left',on='2010 Census Tract')\n",
    "new = pd.merge(new,diff20142015,how='left',on='2010 Census Tract')\n",
    "new = pd.merge(new,diff20152016,how='left',on='2010 Census Tract')\n",
    "new = pd.merge(new,diff20162017,how='left',on='2010 Census Tract')\n",
    "new = pd.merge(new,diff20172018,how='left',on='2010 Census Tract')\n",
    "new.to_csv(\"CTdata_full.csv\")"
   ]
  },
  {
   "cell_type": "code",
   "execution_count": 26,
   "metadata": {
    "collapsed": false
   },
   "outputs": [
    {
     "data": {
      "text/html": [
       "<div>\n",
       "<table border=\"1\" class=\"dataframe\">\n",
       "  <thead>\n",
       "    <tr style=\"text-align: right;\">\n",
       "      <th></th>\n",
       "      <th>2010 Census Tract</th>\n",
       "      <th>Under 5 Years</th>\n",
       "      <th>5-9      Years</th>\n",
       "      <th>10-14 Years</th>\n",
       "    </tr>\n",
       "  </thead>\n",
       "  <tbody>\n",
       "    <tr>\n",
       "      <th>349</th>\n",
       "      <td>18.0</td>\n",
       "      <td>1</td>\n",
       "      <td>0</td>\n",
       "      <td>2</td>\n",
       "    </tr>\n",
       "    <tr>\n",
       "      <th>350</th>\n",
       "      <td>20.0</td>\n",
       "      <td>145</td>\n",
       "      <td>154</td>\n",
       "      <td>132</td>\n",
       "    </tr>\n",
       "    <tr>\n",
       "      <th>352</th>\n",
       "      <td>22.0</td>\n",
       "      <td>325</td>\n",
       "      <td>296</td>\n",
       "      <td>239</td>\n",
       "    </tr>\n",
       "    <tr>\n",
       "      <th>355</th>\n",
       "      <td>30.0</td>\n",
       "      <td>113</td>\n",
       "      <td>101</td>\n",
       "      <td>108</td>\n",
       "    </tr>\n",
       "    <tr>\n",
       "      <th>358</th>\n",
       "      <td>34.0</td>\n",
       "      <td>185</td>\n",
       "      <td>174</td>\n",
       "      <td>145</td>\n",
       "    </tr>\n",
       "  </tbody>\n",
       "</table>\n",
       "</div>"
      ],
      "text/plain": [
       "     2010 Census Tract  Under 5 Years  5-9      Years  10-14 Years\n",
       "349               18.0              1               0            2\n",
       "350               20.0            145             154          132\n",
       "352               22.0            325             296          239\n",
       "355               30.0            113             101          108\n",
       "358               34.0            185             174          145"
      ]
     },
     "execution_count": 26,
     "metadata": {},
     "output_type": "execute_result"
    }
   ],
   "source": [
    "data_2017.head()"
   ]
  },
  {
   "cell_type": "code",
   "execution_count": 27,
   "metadata": {
    "collapsed": false
   },
   "outputs": [
    {
     "data": {
      "text/html": [
       "<div>\n",
       "<table border=\"1\" class=\"dataframe\">\n",
       "  <thead>\n",
       "    <tr style=\"text-align: right;\">\n",
       "      <th></th>\n",
       "      <th>2010 Census Tract</th>\n",
       "      <th>Under 5 Years</th>\n",
       "      <th>5-9      Years</th>\n",
       "      <th>10-14 Years</th>\n",
       "    </tr>\n",
       "  </thead>\n",
       "  <tbody>\n",
       "    <tr>\n",
       "      <th>349</th>\n",
       "      <td>18.0</td>\n",
       "      <td>1</td>\n",
       "      <td>0</td>\n",
       "      <td>1</td>\n",
       "    </tr>\n",
       "    <tr>\n",
       "      <th>350</th>\n",
       "      <td>20.0</td>\n",
       "      <td>146</td>\n",
       "      <td>155</td>\n",
       "      <td>132</td>\n",
       "    </tr>\n",
       "    <tr>\n",
       "      <th>352</th>\n",
       "      <td>22.0</td>\n",
       "      <td>325</td>\n",
       "      <td>298</td>\n",
       "      <td>238</td>\n",
       "    </tr>\n",
       "    <tr>\n",
       "      <th>355</th>\n",
       "      <td>30.0</td>\n",
       "      <td>113</td>\n",
       "      <td>101</td>\n",
       "      <td>108</td>\n",
       "    </tr>\n",
       "    <tr>\n",
       "      <th>358</th>\n",
       "      <td>34.0</td>\n",
       "      <td>186</td>\n",
       "      <td>175</td>\n",
       "      <td>145</td>\n",
       "    </tr>\n",
       "  </tbody>\n",
       "</table>\n",
       "</div>"
      ],
      "text/plain": [
       "     2010 Census Tract  Under 5 Years  5-9      Years  10-14 Years\n",
       "349               18.0              1               0            1\n",
       "350               20.0            146             155          132\n",
       "352               22.0            325             298          238\n",
       "355               30.0            113             101          108\n",
       "358               34.0            186             175          145"
      ]
     },
     "execution_count": 27,
     "metadata": {},
     "output_type": "execute_result"
    }
   ],
   "source": [
    "data_2018.head()"
   ]
  },
  {
   "cell_type": "code",
   "execution_count": 28,
   "metadata": {
    "collapsed": false
   },
   "outputs": [
    {
     "data": {
      "text/plain": [
       "(157, 61)"
      ]
     },
     "execution_count": 28,
     "metadata": {},
     "output_type": "execute_result"
    }
   ],
   "source": [
    "new.shape"
   ]
  },
  {
   "cell_type": "code",
   "execution_count": null,
   "metadata": {
    "collapsed": true
   },
   "outputs": [],
   "source": []
  }
 ],
 "metadata": {
  "anaconda-cloud": {},
  "kernelspec": {
   "display_name": "Python [Root]",
   "language": "python",
   "name": "Python [Root]"
  },
  "language_info": {
   "codemirror_mode": {
    "name": "ipython",
    "version": 3
   },
   "file_extension": ".py",
   "mimetype": "text/x-python",
   "name": "python",
   "nbconvert_exporter": "python",
   "pygments_lexer": "ipython3",
   "version": "3.5.2"
  }
 },
 "nbformat": 4,
 "nbformat_minor": 0
}
