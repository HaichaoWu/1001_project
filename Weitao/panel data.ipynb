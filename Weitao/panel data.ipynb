{
 "cells": [
  {
   "cell_type": "code",
   "execution_count": 104,
   "metadata": {
    "collapsed": false
   },
   "outputs": [],
   "source": [
    "import warnings\n",
    "warnings.filterwarnings('ignore')\n",
    "import pandas as pd\n",
    "#csv = pd.read_csv(\"data_tran.csv\")\n",
    "#csv.columns\n",
    "#csv.columns = ['Census Tract', 'Grade Level', 'a_year_before', 'target', 'year', 'Wht%', 'Blc%', 'Ind%', 'Asn%', 'Mix%', 'His%', '0-4', '5-9', '10-14']\n",
    "#csv.head()\n",
    "#csv.to_csv(\"panel_data.csv\")"
   ]
  },
  {
   "cell_type": "code",
   "execution_count": 22,
   "metadata": {
    "collapsed": false
   },
   "outputs": [
    {
     "data": {
      "text/html": [
       "<div>\n",
       "<table border=\"1\" class=\"dataframe\">\n",
       "  <thead>\n",
       "    <tr style=\"text-align: right;\">\n",
       "      <th></th>\n",
       "      <th>Census Tract</th>\n",
       "      <th>Grade Level</th>\n",
       "      <th>year</th>\n",
       "      <th>target</th>\n",
       "      <th>a_year_before</th>\n",
       "      <th>Wht%</th>\n",
       "      <th>Blc%</th>\n",
       "      <th>Ind%</th>\n",
       "      <th>Asn%</th>\n",
       "      <th>Mix%</th>\n",
       "      <th>His%</th>\n",
       "      <th>0-4</th>\n",
       "      <th>9-May</th>\n",
       "      <th>14-Oct</th>\n",
       "    </tr>\n",
       "  </thead>\n",
       "  <tbody>\n",
       "    <tr>\n",
       "      <th>0</th>\n",
       "      <td>18.0</td>\n",
       "      <td>K</td>\n",
       "      <td>20022003</td>\n",
       "      <td>0</td>\n",
       "      <td>0</td>\n",
       "      <td>0.0</td>\n",
       "      <td>0.333333</td>\n",
       "      <td>0.0</td>\n",
       "      <td>0.0</td>\n",
       "      <td>0.0</td>\n",
       "      <td>0.666667</td>\n",
       "      <td>0</td>\n",
       "      <td>0</td>\n",
       "      <td>0</td>\n",
       "    </tr>\n",
       "    <tr>\n",
       "      <th>1</th>\n",
       "      <td>18.0</td>\n",
       "      <td>1</td>\n",
       "      <td>20022003</td>\n",
       "      <td>0</td>\n",
       "      <td>0</td>\n",
       "      <td>0.0</td>\n",
       "      <td>0.333333</td>\n",
       "      <td>0.0</td>\n",
       "      <td>0.0</td>\n",
       "      <td>0.0</td>\n",
       "      <td>0.666667</td>\n",
       "      <td>0</td>\n",
       "      <td>0</td>\n",
       "      <td>0</td>\n",
       "    </tr>\n",
       "    <tr>\n",
       "      <th>2</th>\n",
       "      <td>18.0</td>\n",
       "      <td>2</td>\n",
       "      <td>20022003</td>\n",
       "      <td>0</td>\n",
       "      <td>1</td>\n",
       "      <td>0.0</td>\n",
       "      <td>0.333333</td>\n",
       "      <td>0.0</td>\n",
       "      <td>0.0</td>\n",
       "      <td>0.0</td>\n",
       "      <td>0.666667</td>\n",
       "      <td>0</td>\n",
       "      <td>0</td>\n",
       "      <td>0</td>\n",
       "    </tr>\n",
       "    <tr>\n",
       "      <th>3</th>\n",
       "      <td>18.0</td>\n",
       "      <td>3</td>\n",
       "      <td>20022003</td>\n",
       "      <td>1</td>\n",
       "      <td>0</td>\n",
       "      <td>0.0</td>\n",
       "      <td>0.333333</td>\n",
       "      <td>0.0</td>\n",
       "      <td>0.0</td>\n",
       "      <td>0.0</td>\n",
       "      <td>0.666667</td>\n",
       "      <td>0</td>\n",
       "      <td>0</td>\n",
       "      <td>0</td>\n",
       "    </tr>\n",
       "    <tr>\n",
       "      <th>4</th>\n",
       "      <td>18.0</td>\n",
       "      <td>4</td>\n",
       "      <td>20022003</td>\n",
       "      <td>0</td>\n",
       "      <td>0</td>\n",
       "      <td>0.0</td>\n",
       "      <td>0.333333</td>\n",
       "      <td>0.0</td>\n",
       "      <td>0.0</td>\n",
       "      <td>0.0</td>\n",
       "      <td>0.666667</td>\n",
       "      <td>0</td>\n",
       "      <td>0</td>\n",
       "      <td>0</td>\n",
       "    </tr>\n",
       "  </tbody>\n",
       "</table>\n",
       "</div>"
      ],
      "text/plain": [
       "   Census Tract Grade Level      year  target  a_year_before  Wht%      Blc%  \\\n",
       "0          18.0           K  20022003       0              0   0.0  0.333333   \n",
       "1          18.0           1  20022003       0              0   0.0  0.333333   \n",
       "2          18.0           2  20022003       0              1   0.0  0.333333   \n",
       "3          18.0           3  20022003       1              0   0.0  0.333333   \n",
       "4          18.0           4  20022003       0              0   0.0  0.333333   \n",
       "\n",
       "   Ind%  Asn%  Mix%      His%  0-4  9-May  14-Oct  \n",
       "0   0.0   0.0   0.0  0.666667    0      0       0  \n",
       "1   0.0   0.0   0.0  0.666667    0      0       0  \n",
       "2   0.0   0.0   0.0  0.666667    0      0       0  \n",
       "3   0.0   0.0   0.0  0.666667    0      0       0  \n",
       "4   0.0   0.0   0.0  0.666667    0      0       0  "
      ]
     },
     "execution_count": 22,
     "metadata": {},
     "output_type": "execute_result"
    }
   ],
   "source": [
    "panel_data = pd.read_csv(\"panel_data.csv\")\n",
    "panel_data.head()"
   ]
  },
  {
   "cell_type": "code",
   "execution_count": 99,
   "metadata": {
    "collapsed": false
   },
   "outputs": [
    {
     "data": {
      "text/plain": [
       "(1413, 14)"
      ]
     },
     "execution_count": 99,
     "metadata": {},
     "output_type": "execute_result"
    }
   ],
   "source": [
    "dataK = panel_data.ix[panel_data['Grade Level'] == 'K']\n",
    "data1 = panel_data.ix[panel_data['Grade Level'] == '1']\n",
    "data2 = panel_data.ix[panel_data['Grade Level'] == '2']\n",
    "data3 = panel_data.ix[panel_data['Grade Level'] == '3']\n",
    "data4 = panel_data.ix[panel_data['Grade Level'] == '4']\n",
    "data5 = panel_data.ix[panel_data['Grade Level'] == '5']\n",
    "data5.shape"
   ]
  },
  {
   "cell_type": "code",
   "execution_count": 82,
   "metadata": {
    "collapsed": false
   },
   "outputs": [],
   "source": [
    "import numpy as np\n",
    "a = np.array(dataK['Census Tract'], dtype=pd.Series)\n",
    "b = np.array(dataK['year'], dtype=pd.Series)"
   ]
  },
  {
   "cell_type": "code",
   "execution_count": 101,
   "metadata": {
    "collapsed": false
   },
   "outputs": [
    {
     "data": {
      "text/html": [
       "<div>\n",
       "<table border=\"1\" class=\"dataframe\">\n",
       "  <thead>\n",
       "    <tr style=\"text-align: right;\">\n",
       "      <th></th>\n",
       "      <th></th>\n",
       "      <th>Census Tract</th>\n",
       "      <th>Grade Level</th>\n",
       "      <th>year</th>\n",
       "      <th>target</th>\n",
       "      <th>a_year_before</th>\n",
       "      <th>Wht%</th>\n",
       "      <th>Blc%</th>\n",
       "      <th>Ind%</th>\n",
       "      <th>Asn%</th>\n",
       "      <th>Mix%</th>\n",
       "      <th>His%</th>\n",
       "      <th>0-4</th>\n",
       "      <th>9-May</th>\n",
       "      <th>14-Oct</th>\n",
       "    </tr>\n",
       "  </thead>\n",
       "  <tbody>\n",
       "    <tr>\n",
       "      <th rowspan=\"5\" valign=\"top\">20022003</th>\n",
       "      <th>18.0</th>\n",
       "      <td>18.0</td>\n",
       "      <td>2</td>\n",
       "      <td>20022003</td>\n",
       "      <td>0</td>\n",
       "      <td>1</td>\n",
       "      <td>0.000000</td>\n",
       "      <td>0.333333</td>\n",
       "      <td>0.000000</td>\n",
       "      <td>0.000000</td>\n",
       "      <td>0.000000</td>\n",
       "      <td>0.666667</td>\n",
       "      <td>0</td>\n",
       "      <td>0</td>\n",
       "      <td>0</td>\n",
       "    </tr>\n",
       "    <tr>\n",
       "      <th>20.0</th>\n",
       "      <td>20.0</td>\n",
       "      <td>2</td>\n",
       "      <td>20022003</td>\n",
       "      <td>5</td>\n",
       "      <td>1</td>\n",
       "      <td>0.021008</td>\n",
       "      <td>0.012605</td>\n",
       "      <td>0.006303</td>\n",
       "      <td>0.042017</td>\n",
       "      <td>0.006303</td>\n",
       "      <td>0.909664</td>\n",
       "      <td>3</td>\n",
       "      <td>-3</td>\n",
       "      <td>-1</td>\n",
       "    </tr>\n",
       "    <tr>\n",
       "      <th>22.0</th>\n",
       "      <td>22.0</td>\n",
       "      <td>2</td>\n",
       "      <td>20022003</td>\n",
       "      <td>55</td>\n",
       "      <td>61</td>\n",
       "      <td>0.069246</td>\n",
       "      <td>0.029532</td>\n",
       "      <td>0.004073</td>\n",
       "      <td>0.082485</td>\n",
       "      <td>0.020367</td>\n",
       "      <td>0.787169</td>\n",
       "      <td>5</td>\n",
       "      <td>-7</td>\n",
       "      <td>-3</td>\n",
       "    </tr>\n",
       "    <tr>\n",
       "      <th>30.0</th>\n",
       "      <td>30.0</td>\n",
       "      <td>2</td>\n",
       "      <td>20022003</td>\n",
       "      <td>12</td>\n",
       "      <td>15</td>\n",
       "      <td>0.535912</td>\n",
       "      <td>0.024862</td>\n",
       "      <td>0.000000</td>\n",
       "      <td>0.129834</td>\n",
       "      <td>0.082873</td>\n",
       "      <td>0.226519</td>\n",
       "      <td>1</td>\n",
       "      <td>-2</td>\n",
       "      <td>-2</td>\n",
       "    </tr>\n",
       "    <tr>\n",
       "      <th>34.0</th>\n",
       "      <td>34.0</td>\n",
       "      <td>2</td>\n",
       "      <td>20022003</td>\n",
       "      <td>14</td>\n",
       "      <td>17</td>\n",
       "      <td>0.559415</td>\n",
       "      <td>0.000000</td>\n",
       "      <td>0.000000</td>\n",
       "      <td>0.186472</td>\n",
       "      <td>0.047532</td>\n",
       "      <td>0.206581</td>\n",
       "      <td>2</td>\n",
       "      <td>-5</td>\n",
       "      <td>-2</td>\n",
       "    </tr>\n",
       "  </tbody>\n",
       "</table>\n",
       "</div>"
      ],
      "text/plain": [
       "               Census Tract Grade Level      year  target  a_year_before  \\\n",
       "20022003 18.0          18.0           2  20022003       0              1   \n",
       "         20.0          20.0           2  20022003       5              1   \n",
       "         22.0          22.0           2  20022003      55             61   \n",
       "         30.0          30.0           2  20022003      12             15   \n",
       "         34.0          34.0           2  20022003      14             17   \n",
       "\n",
       "                   Wht%      Blc%      Ind%      Asn%      Mix%      His%  \\\n",
       "20022003 18.0  0.000000  0.333333  0.000000  0.000000  0.000000  0.666667   \n",
       "         20.0  0.021008  0.012605  0.006303  0.042017  0.006303  0.909664   \n",
       "         22.0  0.069246  0.029532  0.004073  0.082485  0.020367  0.787169   \n",
       "         30.0  0.535912  0.024862  0.000000  0.129834  0.082873  0.226519   \n",
       "         34.0  0.559415  0.000000  0.000000  0.186472  0.047532  0.206581   \n",
       "\n",
       "               0-4  9-May  14-Oct  \n",
       "20022003 18.0    0      0       0  \n",
       "         20.0    3     -3      -1  \n",
       "         22.0    5     -7      -3  \n",
       "         30.0    1     -2      -2  \n",
       "         34.0    2     -5      -2  "
      ]
     },
     "execution_count": 101,
     "metadata": {},
     "output_type": "execute_result"
    }
   ],
   "source": [
    "dataK.index = [b,a]\n",
    "data1.index = [b,a]\n",
    "data2.index = [b,a]\n",
    "data3.index = [b,a]\n",
    "data4.index = [b,a]\n",
    "data5.index = [b,a]\n",
    "data2.head()"
   ]
  },
  {
   "cell_type": "code",
   "execution_count": 80,
   "metadata": {
    "collapsed": false
   },
   "outputs": [
    {
     "data": {
      "text/html": [
       "<div>\n",
       "<table border=\"1\" class=\"dataframe\">\n",
       "  <thead>\n",
       "    <tr style=\"text-align: right;\">\n",
       "      <th></th>\n",
       "      <th></th>\n",
       "      <th>a_year_before</th>\n",
       "      <th>Wht%</th>\n",
       "      <th>Blc%</th>\n",
       "      <th>Ind%</th>\n",
       "      <th>Asn%</th>\n",
       "      <th>Mix%</th>\n",
       "      <th>His%</th>\n",
       "      <th>0-4</th>\n",
       "      <th>9-May</th>\n",
       "      <th>14-Oct</th>\n",
       "    </tr>\n",
       "  </thead>\n",
       "  <tbody>\n",
       "    <tr>\n",
       "      <th rowspan=\"5\" valign=\"top\">2002</th>\n",
       "      <th>18.0</th>\n",
       "      <td>0</td>\n",
       "      <td>0.000000</td>\n",
       "      <td>0.333333</td>\n",
       "      <td>0.000000</td>\n",
       "      <td>0.000000</td>\n",
       "      <td>0.000000</td>\n",
       "      <td>0.666667</td>\n",
       "      <td>0</td>\n",
       "      <td>0</td>\n",
       "      <td>0</td>\n",
       "    </tr>\n",
       "    <tr>\n",
       "      <th>20.0</th>\n",
       "      <td>4</td>\n",
       "      <td>0.021008</td>\n",
       "      <td>0.012605</td>\n",
       "      <td>0.006303</td>\n",
       "      <td>0.042017</td>\n",
       "      <td>0.006303</td>\n",
       "      <td>0.909664</td>\n",
       "      <td>3</td>\n",
       "      <td>-3</td>\n",
       "      <td>-1</td>\n",
       "    </tr>\n",
       "    <tr>\n",
       "      <th>22.0</th>\n",
       "      <td>49</td>\n",
       "      <td>0.069246</td>\n",
       "      <td>0.029532</td>\n",
       "      <td>0.004073</td>\n",
       "      <td>0.082485</td>\n",
       "      <td>0.020367</td>\n",
       "      <td>0.787169</td>\n",
       "      <td>5</td>\n",
       "      <td>-7</td>\n",
       "      <td>-3</td>\n",
       "    </tr>\n",
       "    <tr>\n",
       "      <th>30.0</th>\n",
       "      <td>16</td>\n",
       "      <td>0.535912</td>\n",
       "      <td>0.024862</td>\n",
       "      <td>0.000000</td>\n",
       "      <td>0.129834</td>\n",
       "      <td>0.082873</td>\n",
       "      <td>0.226519</td>\n",
       "      <td>1</td>\n",
       "      <td>-2</td>\n",
       "      <td>-2</td>\n",
       "    </tr>\n",
       "    <tr>\n",
       "      <th>34.0</th>\n",
       "      <td>13</td>\n",
       "      <td>0.559415</td>\n",
       "      <td>0.000000</td>\n",
       "      <td>0.000000</td>\n",
       "      <td>0.186472</td>\n",
       "      <td>0.047532</td>\n",
       "      <td>0.206581</td>\n",
       "      <td>2</td>\n",
       "      <td>-5</td>\n",
       "      <td>-2</td>\n",
       "    </tr>\n",
       "  </tbody>\n",
       "</table>\n",
       "</div>"
      ],
      "text/plain": [
       "           a_year_before      Wht%      Blc%      Ind%      Asn%      Mix%  \\\n",
       "2002 18.0              0  0.000000  0.333333  0.000000  0.000000  0.000000   \n",
       "     20.0              4  0.021008  0.012605  0.006303  0.042017  0.006303   \n",
       "     22.0             49  0.069246  0.029532  0.004073  0.082485  0.020367   \n",
       "     30.0             16  0.535912  0.024862  0.000000  0.129834  0.082873   \n",
       "     34.0             13  0.559415  0.000000  0.000000  0.186472  0.047532   \n",
       "\n",
       "               His%  0-4  9-May  14-Oct  \n",
       "2002 18.0  0.666667    0      0       0  \n",
       "     20.0  0.909664    3     -3      -1  \n",
       "     22.0  0.787169    5     -7      -3  \n",
       "     30.0  0.226519    1     -2      -2  \n",
       "     34.0  0.206581    2     -5      -2  "
      ]
     },
     "execution_count": 80,
     "metadata": {},
     "output_type": "execute_result"
    }
   ],
   "source": [
    "r = dataK.ix[:,4:]\n",
    "r.head()"
   ]
  },
  {
   "cell_type": "code",
   "execution_count": 90,
   "metadata": {
    "collapsed": true
   },
   "outputs": [],
   "source": [
    "def med_rela_abs_error(ser_true, ser_pred):\n",
    "    return np.median(np.abs((ser_pred-ser_true)/ser_pred))"
   ]
  },
  {
   "cell_type": "code",
   "execution_count": 102,
   "metadata": {
    "collapsed": true
   },
   "outputs": [],
   "source": [
    "def model_performance(data):\n",
    "    msk = np.random.rand(len(data)) < 0.7\n",
    "    X_train = data[msk]\n",
    "    X_train = X_train.ix[:,4:]\n",
    "    y_train = data[msk]['target']\n",
    "    X_test = data[~msk]\n",
    "    X_test = X_test.ix[:,4:]\n",
    "    y_test = data[~msk]['target']\n",
    "    reg  = PanelOLS(y=y_train,x=X_train,entity_effects=True)\n",
    "    reg2  = PanelOLS(y=y_test,x=X_test,entity_effects=True)\n",
    "    yhat = np.dot(reg2._x.values,reg._beta_raw)\n",
    "    y = np.array(y_test, dtype=pd.Series)\n",
    "    mrae = med_rela_abs_error(y, yhat)\n",
    "    return mrae;\n",
    "    "
   ]
  },
  {
   "cell_type": "code",
   "execution_count": 116,
   "metadata": {
    "collapsed": false
   },
   "outputs": [
    {
     "data": {
      "image/png": "[encoded data removed]",
      "text/plain": [
       "<matplotlib.figure.Figure at 0x119924ba8>"
      ]
     },
     "metadata": {},
     "output_type": "display_data"
    }
   ],
   "source": [
    "from pandas.stats.plm import PanelOLS\n",
    "mraes = []\n",
    "mraes.append(model_performance(dataK))\n",
    "mraes.append(model_performance(data1))\n",
    "mraes.append(model_performance(data2))\n",
    "mraes.append(model_performance(data3))\n",
    "mraes.append(model_performance(data4))\n",
    "mraes.append(model_performance(data5))\n",
    "\n",
    "import matplotlib.pyplot as plt\n",
    "%matplotlib inline\n",
    "\n",
    "plt.figure(figsize = (8, 8))\n",
    "plt.title('MRAE values for different grade levels using panel regression')\n",
    "x = np.array([0,1,2,3,4,5])\n",
    "grades = ['K','1','2','3','4','5']\n",
    "plt.xticks(x, grades)\n",
    "plt.plot(x,mraes)\n",
    "plt.xlabel('Grade Level')\n",
    "plt.ylabel('Median Relative Absolute Error')\n",
    "plt.show()"
   ]
  },
  {
   "cell_type": "code",
   "execution_count": 112,
   "metadata": {
    "collapsed": true
   },
   "outputs": [],
   "source": [
    "def ols_model_performance(data):\n",
    "    msk = np.random.rand(len(data)) < 0.7\n",
    "    X_train = data[msk]\n",
    "    X_train = X_train.ix[:,4:]\n",
    "    y_train = data[msk]['target']\n",
    "    X_test = data[~msk]\n",
    "    X_test = X_test.ix[:,4:]\n",
    "    y_test = data[~msk]['target']\n",
    "    reg  = OLS(y=y_train,x=X_train)\n",
    "    reg2  = OLS(y=y_test,x=X_test)\n",
    "    yhat = np.dot(reg2._x.values,reg._beta_raw)\n",
    "    y = np.array(y_test, dtype=pd.Series)\n",
    "    mrae = med_rela_abs_error(y, yhat)\n",
    "    return mrae;"
   ]
  },
  {
   "cell_type": "code",
   "execution_count": 115,
   "metadata": {
    "collapsed": false
   },
   "outputs": [
    {
     "data": {
      "image/png": "[encoded data removed]",
      "text/plain": [
       "<matplotlib.figure.Figure at 0x11ed63390>"
      ]
     },
     "metadata": {},
     "output_type": "display_data"
    }
   ],
   "source": [
    "from pandas.stats.plm import OLS\n",
    "mraes = []\n",
    "mraes.append(ols_model_performance(dataK))\n",
    "mraes.append(ols_model_performance(data1))\n",
    "mraes.append(ols_model_performance(data2))\n",
    "mraes.append(ols_model_performance(data3))\n",
    "mraes.append(ols_model_performance(data4))\n",
    "mraes.append(ols_model_performance(data5))\n",
    "\n",
    "import matplotlib.pyplot as plt\n",
    "%matplotlib inline\n",
    "\n",
    "plt.figure(figsize = (8, 8))\n",
    "plt.title('MRAE values for different grade levels using linear regression')\n",
    "x = np.array([0,1,2,3,4,5])\n",
    "grades = ['K','1','2','3','4','5']\n",
    "plt.xticks(x, grades)\n",
    "plt.plot(x,mraes)\n",
    "plt.xlabel('Grade Level')\n",
    "plt.ylabel('Median Relative Absolute Error')\n",
    "plt.show()"
   ]
  },
  {
   "cell_type": "code",
   "execution_count": null,
   "metadata": {
    "collapsed": true
   },
   "outputs": [],
   "source": []
  }
 ],
 "metadata": {
  "anaconda-cloud": {},
  "kernelspec": {
   "display_name": "Python [Root]",
   "language": "python",
   "name": "Python [Root]"
  },
  "language_info": {
   "codemirror_mode": {
    "name": "ipython",
    "version": 3
   },
   "file_extension": ".py",
   "mimetype": "text/x-python",
   "name": "python",
   "nbconvert_exporter": "python",
   "pygments_lexer": "ipython3",
   "version": "3.5.2"
  }
 },
 "nbformat": 4,
 "nbformat_minor": 0
}
