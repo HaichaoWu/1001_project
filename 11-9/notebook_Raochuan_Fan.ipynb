{
 "cells": [
  {
   "cell_type": "code",
   "execution_count": 6,
   "metadata": {
    "collapsed": true
   },
   "outputs": [],
   "source": [
    "import pandas as pd\n",
    "import numpy as np\n",
    "from __future__ import division"
   ]
  },
  {
   "cell_type": "code",
   "execution_count": 17,
   "metadata": {
    "collapsed": false
   },
   "outputs": [
    {
     "data": {
      "text/html": [
       "<div>\n",
       "<table border=\"1\" class=\"dataframe\">\n",
       "  <thead>\n",
       "    <tr style=\"text-align: right;\">\n",
       "      <th></th>\n",
       "      <th>2010 Census Tract</th>\n",
       "      <th>Total Population    21 Years    and Under</th>\n",
       "      <th>Under 1 Year</th>\n",
       "      <th>1 &amp; 2 Years</th>\n",
       "      <th>3 &amp; 4 Years</th>\n",
       "      <th>5 Years</th>\n",
       "      <th>6 Years</th>\n",
       "      <th>7 to 9 Years</th>\n",
       "      <th>10 &amp; 11 Years</th>\n",
       "      <th>12 &amp; 13 Years</th>\n",
       "      <th>14 Years</th>\n",
       "      <th>15 Years</th>\n",
       "      <th>16 Years</th>\n",
       "      <th>17 Years</th>\n",
       "      <th>18 Years</th>\n",
       "      <th>19 Years</th>\n",
       "      <th>20 Years</th>\n",
       "      <th>21 Years</th>\n",
       "    </tr>\n",
       "  </thead>\n",
       "  <tbody>\n",
       "    <tr>\n",
       "      <th>Brooklyn</th>\n",
       "      <td>100</td>\n",
       "      <td>586</td>\n",
       "      <td>49</td>\n",
       "      <td>95</td>\n",
       "      <td>67</td>\n",
       "      <td>35</td>\n",
       "      <td>31</td>\n",
       "      <td>80</td>\n",
       "      <td>50</td>\n",
       "      <td>40</td>\n",
       "      <td>10</td>\n",
       "      <td>25</td>\n",
       "      <td>12</td>\n",
       "      <td>28</td>\n",
       "      <td>11</td>\n",
       "      <td>19</td>\n",
       "      <td>19</td>\n",
       "      <td>15</td>\n",
       "    </tr>\n",
       "    <tr>\n",
       "      <th>Brooklyn</th>\n",
       "      <td>200</td>\n",
       "      <td>589</td>\n",
       "      <td>27</td>\n",
       "      <td>56</td>\n",
       "      <td>66</td>\n",
       "      <td>36</td>\n",
       "      <td>32</td>\n",
       "      <td>57</td>\n",
       "      <td>49</td>\n",
       "      <td>33</td>\n",
       "      <td>17</td>\n",
       "      <td>25</td>\n",
       "      <td>26</td>\n",
       "      <td>31</td>\n",
       "      <td>22</td>\n",
       "      <td>35</td>\n",
       "      <td>38</td>\n",
       "      <td>39</td>\n",
       "    </tr>\n",
       "    <tr>\n",
       "      <th>Brooklyn</th>\n",
       "      <td>301</td>\n",
       "      <td>685</td>\n",
       "      <td>68</td>\n",
       "      <td>116</td>\n",
       "      <td>112</td>\n",
       "      <td>36</td>\n",
       "      <td>31</td>\n",
       "      <td>97</td>\n",
       "      <td>42</td>\n",
       "      <td>38</td>\n",
       "      <td>16</td>\n",
       "      <td>21</td>\n",
       "      <td>19</td>\n",
       "      <td>23</td>\n",
       "      <td>17</td>\n",
       "      <td>11</td>\n",
       "      <td>20</td>\n",
       "      <td>18</td>\n",
       "    </tr>\n",
       "    <tr>\n",
       "      <th>Brooklyn</th>\n",
       "      <td>501</td>\n",
       "      <td>1,267</td>\n",
       "      <td>49</td>\n",
       "      <td>69</td>\n",
       "      <td>64</td>\n",
       "      <td>29</td>\n",
       "      <td>24</td>\n",
       "      <td>56</td>\n",
       "      <td>29</td>\n",
       "      <td>22</td>\n",
       "      <td>15</td>\n",
       "      <td>8</td>\n",
       "      <td>18</td>\n",
       "      <td>12</td>\n",
       "      <td>174</td>\n",
       "      <td>306</td>\n",
       "      <td>270</td>\n",
       "      <td>122</td>\n",
       "    </tr>\n",
       "    <tr>\n",
       "      <th>Brooklyn</th>\n",
       "      <td>502</td>\n",
       "      <td>292</td>\n",
       "      <td>34</td>\n",
       "      <td>40</td>\n",
       "      <td>36</td>\n",
       "      <td>15</td>\n",
       "      <td>14</td>\n",
       "      <td>35</td>\n",
       "      <td>14</td>\n",
       "      <td>25</td>\n",
       "      <td>10</td>\n",
       "      <td>8</td>\n",
       "      <td>7</td>\n",
       "      <td>16</td>\n",
       "      <td>8</td>\n",
       "      <td>10</td>\n",
       "      <td>12</td>\n",
       "      <td>8</td>\n",
       "    </tr>\n",
       "  </tbody>\n",
       "</table>\n",
       "</div>"
      ],
      "text/plain": [
       "          2010 Census Tract Total Population    21 Years    and Under  \\\n",
       "Brooklyn                100                                       586   \n",
       "Brooklyn                200                                       589   \n",
       "Brooklyn                301                                       685   \n",
       "Brooklyn                501                                     1,267   \n",
       "Brooklyn                502                                       292   \n",
       "\n",
       "          Under 1 Year  1 & 2 Years  3 & 4 Years  5 Years  6 Years  \\\n",
       "Brooklyn            49           95           67       35       31   \n",
       "Brooklyn            27           56           66       36       32   \n",
       "Brooklyn            68          116          112       36       31   \n",
       "Brooklyn            49           69           64       29       24   \n",
       "Brooklyn            34           40           36       15       14   \n",
       "\n",
       "          7 to 9 Years  10 & 11 Years  12 & 13 Years  14 Years  15 Years  \\\n",
       "Brooklyn            80             50             40        10        25   \n",
       "Brooklyn            57             49             33        17        25   \n",
       "Brooklyn            97             42             38        16        21   \n",
       "Brooklyn            56             29             22        15         8   \n",
       "Brooklyn            35             14             25        10         8   \n",
       "\n",
       "          16 Years  17 Years  18 Years  19 Years  20 Years  21 Years  \n",
       "Brooklyn        12        28        11        19        19        15  \n",
       "Brooklyn        26        31        22        35        38        39  \n",
       "Brooklyn        19        23        17        11        20        18  \n",
       "Brooklyn        18        12       174       306       270       122  \n",
       "Brooklyn         7        16         8        10        12         8  "
      ]
     },
     "execution_count": 17,
     "metadata": {},
     "output_type": "execute_result"
    }
   ],
   "source": [
    "raw_data = pd.read_csv('population_2010_accurate.csv',index_col=0)\n",
    "raw_data.head()"
   ]
  },
  {
   "cell_type": "code",
   "execution_count": 18,
   "metadata": {
    "collapsed": false
   },
   "outputs": [],
   "source": [
    "raw_data['2010 Census Tract'] = raw_data['2010 Census Tract']/100"
   ]
  },
  {
   "cell_type": "code",
   "execution_count": 19,
   "metadata": {
    "collapsed": false
   },
   "outputs": [],
   "source": [
    "raw_data.to_csv('population_2010_accurate.csv')"
   ]
  },
  {
   "cell_type": "code",
   "execution_count": null,
   "metadata": {
    "collapsed": true
   },
   "outputs": [],
   "source": []
  }
 ],
 "metadata": {
  "kernelspec": {
   "display_name": "Python [Root]",
   "language": "python",
   "name": "Python [Root]"
  },
  "language_info": {
   "codemirror_mode": {
    "name": "ipython",
    "version": 2
   },
   "file_extension": ".py",
   "mimetype": "text/x-python",
   "name": "python",
   "nbconvert_exporter": "python",
   "pygments_lexer": "ipython2",
   "version": "2.7.12"
  }
 },
 "nbformat": 4,
 "nbformat_minor": 0
}
