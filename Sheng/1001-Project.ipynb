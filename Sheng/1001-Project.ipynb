{
 "cells": [
  {
   "cell_type": "markdown",
   "metadata": {},
   "source": [
    "# First Deep Dive on Enrollment Counts\n",
    "### Sheng Liu\n",
    "### Monday, Nov.  7, 2016"
   ]
  },
  {
   "cell_type": "code",
   "execution_count": 290,
   "metadata": {
    "collapsed": false
   },
   "outputs": [],
   "source": [
    "import pandas as pd\n",
    "import numpy as np\n",
    "import warnings\n",
    "from sklearn import preprocessing\n",
    "warnings.filterwarnings('ignore')\n",
    "data = pd.read_csv('1001_project/CSD20_Resident_Data_Phase_1.csv', header = 0, sep = ',')#, index_col = 0)"
   ]
  },
  {
   "cell_type": "code",
   "execution_count": 291,
   "metadata": {
    "collapsed": false
   },
   "outputs": [],
   "source": [
    "year = []\n",
    "for i in range(len(data)):\n",
    "    year.append(str(data['School_Year'].iloc[i])[0:4])\n",
    "for i in range(len(year)):\n",
    "    year[i] = int(year[i])\n",
    "data['Year'] = year"
   ]
  },
  {
   "cell_type": "code",
   "execution_count": 21,
   "metadata": {
    "collapsed": false
   },
   "outputs": [
    {
     "data": {
      "text/plain": [
       "array([2004, 2008, 2001, ..., 2003, 2003, 2007])"
      ]
     },
     "execution_count": 21,
     "metadata": {},
     "output_type": "execute_result"
    }
   ],
   "source": [
    "data_5 = data[data['Grade_Level']== '5']\n",
    "dic_5 = {}\n",
    "for year in np.unique(data_5.Year.values):\n",
    "    \n",
    "    dic_5 ={}\n",
    "    "
   ]
  },
  {
   "cell_type": "code",
   "execution_count": 46,
   "metadata": {
    "collapsed": false
   },
   "outputs": [],
   "source": [
    "data_5 = data[data['Grade_Level']== '5']"
   ]
  },
  {
   "cell_type": "code",
   "execution_count": 47,
   "metadata": {
    "collapsed": false
   },
   "outputs": [
    {
     "data": {
      "text/html": [
       "<div>\n",
       "<table border=\"1\" class=\"dataframe\">\n",
       "  <thead>\n",
       "    <tr style=\"text-align: right;\">\n",
       "      <th></th>\n",
       "      <th>Census_Tract</th>\n",
       "      <th>School_Year</th>\n",
       "      <th>Grade_Level</th>\n",
       "      <th>no_Students</th>\n",
       "      <th>Year</th>\n",
       "    </tr>\n",
       "  </thead>\n",
       "  <tbody>\n",
       "    <tr>\n",
       "      <th>6</th>\n",
       "      <td>18</td>\n",
       "      <td>20042005</td>\n",
       "      <td>5</td>\n",
       "      <td>1</td>\n",
       "      <td>2004</td>\n",
       "    </tr>\n",
       "    <tr>\n",
       "      <th>11</th>\n",
       "      <td>18</td>\n",
       "      <td>20082009</td>\n",
       "      <td>5</td>\n",
       "      <td>1</td>\n",
       "      <td>2008</td>\n",
       "    </tr>\n",
       "    <tr>\n",
       "      <th>17</th>\n",
       "      <td>20</td>\n",
       "      <td>20012002</td>\n",
       "      <td>5</td>\n",
       "      <td>7</td>\n",
       "      <td>2001</td>\n",
       "    </tr>\n",
       "    <tr>\n",
       "      <th>23</th>\n",
       "      <td>20</td>\n",
       "      <td>20022003</td>\n",
       "      <td>5</td>\n",
       "      <td>6</td>\n",
       "      <td>2002</td>\n",
       "    </tr>\n",
       "    <tr>\n",
       "      <th>29</th>\n",
       "      <td>20</td>\n",
       "      <td>20032004</td>\n",
       "      <td>5</td>\n",
       "      <td>2</td>\n",
       "      <td>2003</td>\n",
       "    </tr>\n",
       "  </tbody>\n",
       "</table>\n",
       "</div>"
      ],
      "text/plain": [
       "    Census_Tract  School_Year Grade_Level  no_Students  Year\n",
       "6             18     20042005           5            1  2004\n",
       "11            18     20082009           5            1  2008\n",
       "17            20     20012002           5            7  2001\n",
       "23            20     20022003           5            6  2002\n",
       "29            20     20032004           5            2  2003"
      ]
     },
     "execution_count": 47,
     "metadata": {},
     "output_type": "execute_result"
    }
   ],
   "source": [
    "data_5.head()"
   ]
  },
  {
   "cell_type": "code",
   "execution_count": 54,
   "metadata": {
    "collapsed": false
   },
   "outputs": [],
   "source": [
    "data_5_groupby_YEAR_AND_TRACT = data_5.groupby(['Census_Tract','Year'])['no_Students'].count()"
   ]
  },
  {
   "cell_type": "code",
   "execution_count": 292,
   "metadata": {
    "collapsed": false
   },
   "outputs": [],
   "source": [
    "def DEL_MISSINGVALUES(mat):\n",
    "    mat_without_missing = []\n",
    "    for row in mat:\n",
    "        if -999 not in row:\n",
    "            mat_without_missing.append(row)\n",
    "    return mat_without_missing"
   ]
  },
  {
   "cell_type": "code",
   "execution_count": 293,
   "metadata": {
    "collapsed": false
   },
   "outputs": [],
   "source": [
    "\n",
    "def CALCU_MAT(df):\n",
    "    mat = []\n",
    "    for i in np.unique(data.Census_Tract.values):\n",
    "        if i in np.unique(df.Census_Tract.values):\n",
    "            tract_slice_data = df[df['Census_Tract'] == i]\n",
    "            vec = []\n",
    "            for j in [2001, 2002, 2003, 2004, 2005, 2006, 2007, 2008, 2009, 2010]:\n",
    "                if j in tract_slice_data.Year.values:\n",
    "                    m = tract_slice_data[tract_slice_data['Year'] == j].no_Students.values\n",
    "                    vec.append(int(m))\n",
    "                else:\n",
    "                    vec.append(-999)\n",
    "            mat.append(vec)\n",
    "        else:\n",
    "            mat.append([0]*10)\n",
    "            #mat = DEL_MISSINGVALUES(mat)\n",
    "    return mat\n",
    "    \n"
   ]
  },
  {
   "cell_type": "code",
   "execution_count": 249,
   "metadata": {
    "collapsed": false
   },
   "outputs": [],
   "source": [
    "data_4 = data[data['Grade_Level']== '4']\n",
    "mat_4 = CALCU_MAT(data_4)\n",
    "data_5 = data[data['Grade_Level']== '5']\n",
    "mat_5 = CALCU_MAT(data_5)"
   ]
  },
  {
   "cell_type": "code",
   "execution_count": 250,
   "metadata": {
    "collapsed": false
   },
   "outputs": [],
   "source": [
    "list_2002_G5 = [x[1] for x in mat_5]\n",
    "list_2001_G4 = [x[0] for x in mat_4]\n"
   ]
  },
  {
   "cell_type": "code",
   "execution_count": 294,
   "metadata": {
    "collapsed": true
   },
   "outputs": [],
   "source": [
    "def clean_list(m,n):\n",
    "    m_new = []\n",
    "    n_new = []\n",
    "    for i in range(len(m)):\n",
    "        if m[i] != 0 and m[i] !=-999 and n[i] != 0 and n[i] != -999:\n",
    "            m_new.append(m[i])\n",
    "            n_new.append(n[i])\n",
    "    return m_new, n_new"
   ]
  },
  {
   "cell_type": "code",
   "execution_count": 295,
   "metadata": {
    "collapsed": true
   },
   "outputs": [],
   "source": [
    "list_2001_G4_new, list_2002_G5_new = clean_list(list_2001_G4,list_2002_G5)"
   ]
  },
  {
   "cell_type": "code",
   "execution_count": 285,
   "metadata": {
    "collapsed": false
   },
   "outputs": [
    {
     "data": {
      "text/plain": [
       "0"
      ]
     },
     "execution_count": 285,
     "metadata": {},
     "output_type": "execute_result"
    }
   ],
   "source": [
    "len(list_2001_G4_new) - len(list_2002_G5_new)"
   ]
  },
  {
   "cell_type": "code",
   "execution_count": 297,
   "metadata": {
    "collapsed": false
   },
   "outputs": [
    {
     "data": {
      "text/plain": [
       "<matplotlib.collections.PathCollection at 0x11c279b38>"
      ]
     },
     "execution_count": 297,
     "metadata": {},
     "output_type": "execute_result"
    },
    {
     "data": {
      "image/png": "[encoded data removed]",
      "text/plain": [
       "<matplotlib.figure.Figure at 0x11c214198>"
      ]
     },
     "metadata": {},
     "output_type": "display_data"
    }
   ],
   "source": [
    "import matplotlib\n",
    "import matplotlib.pyplot as plt\n",
    "%matplotlib inline\n",
    "plt.scatter(list1,list2,color = 'black')\n",
    "plt.scatter(list_2001_G4_new, list_2002_G5_new,color = 'red')\n",
    "#plt.xlim([0,100])\n",
    "#plt.ylim([0,100])"
   ]
  },
  {
   "cell_type": "code",
   "execution_count": 323,
   "metadata": {
    "collapsed": false
   },
   "outputs": [],
   "source": [
    "correlation_vec = []\n",
    "k = 0\n",
    "for grade in ['K','1','2','3','4','5']:\n",
    "    k = k+1\n",
    "    if k < 6:\n",
    "        data_slice_grade_this_year = data[data['Grade_Level']== grade]\n",
    "        mat_this_year = CALCU_MAT(data_slice_grade_this_year)\n",
    "        data_slice_grade_next_year = data[data['Grade_Level']== str(k) ]\n",
    "        mat_next_year = CALCU_MAT(data_slice_grade_next_year)\n",
    "        for year in range(0,10,2):\n",
    "            for x in mat_next_year:\n",
    "                list_next_year.append(x[year])\n",
    "        for year in range(1,10,2):\n",
    "            for x in mat_this_year:\n",
    "                list_this_year.append(x[year])\n",
    "        #list_next_year = [x[4] for x in mat_next_year]\n",
    "        #list_this_year = [x[5] for x in mat_this_year]\n",
    "        list_this_year, list_next_year = clean_list(list_this_year,list_next_year)\n",
    "        correlation_vec.append(np.corrcoef(list_this_year, list_next_year)[0][1])"
   ]
  },
  {
   "cell_type": "code",
   "execution_count": 324,
   "metadata": {
    "collapsed": false
   },
   "outputs": [
    {
     "data": {
      "text/plain": [
       "[0.9156514081924243,\n",
       " 0.91585486436884989,\n",
       " 0.91339009012734562,\n",
       " 0.91293281766380663,\n",
       " 0.91203186375719181]"
      ]
     },
     "execution_count": 324,
     "metadata": {},
     "output_type": "execute_result"
    }
   ],
   "source": [
    "correlation_vec"
   ]
  },
  {
   "cell_type": "code",
   "execution_count": 319,
   "metadata": {
    "collapsed": false
   },
   "outputs": [],
   "source": [
    "correlation_vec_same_grade = []\n",
    "k = 0\n",
    "list_next_year = []\n",
    "list_this_year = []\n",
    "for grade in ['K','1','2','3','4','5']:\n",
    "    k = k+1\n",
    "    if k < 6:\n",
    "        data_slice_grade_this_year = data[data['Grade_Level']== grade]\n",
    "        mat_this_year = CALCU_MAT(data_slice_grade_this_year)\n",
    "        data_slice_grade_next_year = data[data['Grade_Level']== grade ]\n",
    "        mat_next_year = CALCU_MAT(data_slice_grade_next_year)\n",
    "        for year in range(0,10,2):\n",
    "            for x in mat_next_year:\n",
    "                list_next_year.append(x[year])\n",
    "        for year in range(1,10,2):\n",
    "            for x in mat_this_year:\n",
    "                list_this_year.append(x[year])\n",
    "        #list_next_year = [x[4] for x in mat_next_year]\n",
    "        #list_this_year = [x[5] for x in mat_this_year]\n",
    "        list_this_year, list_next_year = clean_list(list_this_year,list_next_year)\n",
    "        correlation_vec_same_grade.append(np.corrcoef(list_this_year, list_next_year)[0][1])"
   ]
  },
  {
   "cell_type": "code",
   "execution_count": 322,
   "metadata": {
    "collapsed": false
   },
   "outputs": [
    {
     "data": {
      "text/plain": [
       "3166"
      ]
     },
     "execution_count": 322,
     "metadata": {},
     "output_type": "execute_result"
    }
   ],
   "source": []
  },
  {
   "cell_type": "code",
   "execution_count": 318,
   "metadata": {
    "collapsed": false
   },
   "outputs": [
    {
     "data": {
      "text/plain": [
       "[[-999, -999, 1, -999, 1, -999, 1, -999, -999, -999],\n",
       " [8, 3, 3, 7, 5, 4, 11, 7, 9, 5],\n",
       " [47, 51, 54, 52, 40, 47, 36, 50, 42, 44],\n",
       " [17, 18, 14, 10, 17, 13, 12, 20, 7, 16],\n",
       " [9, 19, 17, 18, 14, 14, 22, 22, 27, 27],\n",
       " [19, 29, 33, 42, 25, 27, 21, 19, 12, 21],\n",
       " [9, 6, 7, 7, 9, 6, 2, 4, 4, 8],\n",
       " [13, 12, 11, 10, 15, 12, 6, 7, 10, 7],\n",
       " [3, 3, 3, 3, 7, 2, 5, 4, 8, 9],\n",
       " [6, 4, 17, 9, 11, 6, 7, 4, 15, 20],\n",
       " [0, 0, 0, 0, 0, 0, 0, 0, 0, 0],\n",
       " [13, 8, 15, 8, 6, 11, 2, 7, 5, 3],\n",
       " [8, 14, 13, 8, 10, 14, 7, 6, 11, 8],\n",
       " [14, 13, 15, 27, 10, 19, 13, 7, 24, 30],\n",
       " [22, 30, 27, 28, 19, 11, 15, 12, 29, 32],\n",
       " [21, 27, 30, 31, 21, 18, 15, 16, 35, 34],\n",
       " [18, 22, 31, 36, 36, 27, 26, 18, 29, 24],\n",
       " [42, 71, 62, 51, 52, 63, 51, 74, 62, 55],\n",
       " [13, 13, 20, 15, 18, 18, 15, 14, 11, 18],\n",
       " [19, 25, 38, 20, 22, 16, 26, 24, 22, 21],\n",
       " [63, 72, 75, 89, 72, 78, 61, 73, 86, 82],\n",
       " [0, 0, 0, 0, 0, 0, 0, 0, 0, 0],\n",
       " [34, 30, 36, 43, 42, 30, 42, 35, 27, 28],\n",
       " [1, -999, -999, -999, -999, -999, -999, -999, -999, -999],\n",
       " [0, 0, 0, 0, 0, 0, 0, 0, 0, 0],\n",
       " [-999, -999, -999, 1, -999, -999, -999, -999, -999, -999],\n",
       " [0, 0, 0, 0, 0, 0, 0, 0, 0, 0],\n",
       " [8, 11, 4, 8, 11, 8, 9, 13, 7, 11],\n",
       " [1, -999, 2, 1, -999, -999, -999, -999, -999, -999],\n",
       " [-999, 1, 2, 2, -999, -999, -999, -999, -999, -999],\n",
       " [28, 25, 22, 24, 18, 24, 16, 16, 25, 24],\n",
       " [44, 59, 65, 42, 36, 34, 50, 59, 58, 69],\n",
       " [63, 53, 65, 60, 65, 70, 65, 69, 78, 82],\n",
       " [43, 52, 53, 45, 37, 44, 43, 53, 50, 41],\n",
       " [27, 30, 20, 25, 34, 37, 31, 37, 36, 49],\n",
       " [-999, -999, -999, -999, 1, -999, 1, -999, -999, -999],\n",
       " [12, 18, 8, 20, 12, 10, 15, 7, 15, 18],\n",
       " [51, 54, 50, 56, 54, 63, 59, 53, 89, 93],\n",
       " [21, 27, 21, 29, 16, 25, 34, 24, 23, 29],\n",
       " [12, 16, 18, 14, 14, 19, 15, 18, 15, 26],\n",
       " [81, 68, 68, 48, 57, 47, 47, 52, 77, 61],\n",
       " [26, 34, 28, 26, 26, 33, 27, 31, 33, 31],\n",
       " [32, 43, 49, 53, 43, 48, 34, 47, 46, 29],\n",
       " [24, 28, 18, 27, 26, 27, 25, 18, 25, 20],\n",
       " [35, 33, 34, 31, 28, 30, 31, 31, 35, 25],\n",
       " [18, 31, 30, 22, 27, 26, 28, 26, 17, 31],\n",
       " [7, 18, 5, 12, 15, 15, 8, 18, 12, 13],\n",
       " [9, 12, 8, 12, 16, 16, 18, 6, 10, 6],\n",
       " [12, 15, 21, 20, 20, 18, 19, 16, 12, 14],\n",
       " [5, 4, 3, 8, 3, 6, 8, 13, 11, 5],\n",
       " [4, 7, 9, 11, 4, 14, 7, 12, 14, 10],\n",
       " [8, 9, 4, 6, 6, 7, 7, 8, 7, 11],\n",
       " [8, 9, 13, 19, 21, 19, 15, 12, 9, 13],\n",
       " [3, 4, 5, 4, 3, 5, 1, 3, 7, 3],\n",
       " [10, 3, 4, 4, 2, 3, -999, 2, 4, 9],\n",
       " [6, 8, 13, 13, 7, 4, 6, 8, 5, 4],\n",
       " [5, 4, 4, 15, 6, 16, 6, 5, 8, 12],\n",
       " [27, 23, 30, 27, 39, 35, 37, 16, 26, 18],\n",
       " [23, 24, 21, 25, 33, 41, 25, 34, 27, 13],\n",
       " [8, 12, 13, 15, 12, 12, 14, 6, 10, 4],\n",
       " [15, 19, 17, 19, 14, 14, 14, 6, 8, 7],\n",
       " [17, 24, 27, 21, 19, 16, 22, 14, 16, 15],\n",
       " [25, 24, 31, 28, 32, 23, 28, 23, 22, 13],\n",
       " [22, 23, 28, 36, 38, 31, 35, 29, 31, 35],\n",
       " [22, 19, 21, 15, 30, 28, 27, 28, 26, 16],\n",
       " [23, 12, 14, 19, 22, 24, 19, 25, 22, 25],\n",
       " [16, 19, 27, 25, 24, 16, 21, 16, 28, 19],\n",
       " [43, 33, 39, 49, 41, 31, 43, 35, 57, 49],\n",
       " [11, 19, 25, 22, 21, 12, 15, 20, 13, 15],\n",
       " [32, 23, 40, 21, 20, 32, 32, 30, 41, 28],\n",
       " [35, 36, 43, 40, 40, 29, 30, 27, 51, 55],\n",
       " [14, 13, 12, 8, 14, 9, 12, 12, 17, 18],\n",
       " [15, 11, 16, 22, 14, 11, 13, 15, 18, 23],\n",
       " [7, 10, 8, 7, 8, 10, 11, 6, 20, 7],\n",
       " [5, 7, 6, 6, 11, 10, 2, 5, 12, 5],\n",
       " [13, 15, 16, 18, 14, 15, 13, 11, 18, 16],\n",
       " [0, 0, 0, 0, 0, 0, 0, 0, 0, 0],\n",
       " [23, 18, 24, 21, 18, 14, 13, 21, 29, 28],\n",
       " [23, 19, 45, 26, 27, 30, 32, 29, 30, 33],\n",
       " [31, 32, 47, 34, 26, 32, 34, 53, 59, 55],\n",
       " [21, 11, 16, 13, 13, 15, 19, 20, 22, 19],\n",
       " [12, 13, 10, 11, 13, 14, 18, 9, 10, 14],\n",
       " [9, 7, 10, 14, 11, 13, 14, 6, 5, 9],\n",
       " [8, 6, 7, 11, 14, 8, 13, 14, 5, 11],\n",
       " [0, 0, 0, 0, 0, 0, 0, 0, 0, 0],\n",
       " [2, -999, 2, 5, 4, 4, 2, 7, 5, 8],\n",
       " [10, 3, 1, 5, 5, 3, 5, 4, 4, 3],\n",
       " [23, 17, 23, 26, 30, 26, 20, 21, 23, 27],\n",
       " [21, 22, 23, 17, 26, 15, 12, 12, 13, 10],\n",
       " [5, 4, 4, 1, 6, 2, 4, 2, 2, 3],\n",
       " [7, 6, 6, 4, 2, 2, 6, 4, 4, 2],\n",
       " [5, 3, 5, 4, 1, -999, 1, 2, 1, -999],\n",
       " [4, 4, 5, 8, 1, 3, 4, 4, 5, 3],\n",
       " [6, 7, 4, 6, 6, 6, 2, 4, 4, 3],\n",
       " [19, 28, 23, 16, 15, 10, 18, 23, 16, 13],\n",
       " [1, 3, 7, 5, 2, 4, 5, 2, 3, 8],\n",
       " [27, 18, 21, 31, 18, 16, 20, 19, 19, 23],\n",
       " [15, 19, 14, 14, 9, 10, 15, 16, 14, 17],\n",
       " [33, 45, 42, 50, 33, 29, 29, 40, 47, 40],\n",
       " [32, 28, 40, 23, 39, 24, 29, 30, 28, 25],\n",
       " [46, 22, 31, 31, 37, 27, 28, 29, 31, 37],\n",
       " [35, 53, 43, 47, 54, 50, 48, 63, 54, 52],\n",
       " [26, 25, 27, 25, 21, 29, 27, 31, 33, 34],\n",
       " [20, 21, 16, 24, 11, 15, 12, 8, 13, 23],\n",
       " [36, 36, 30, 47, 37, 38, 41, 25, 41, 39],\n",
       " [34, 33, 27, 36, 40, 48, 37, 29, 31, 38],\n",
       " [21, 29, 32, 34, 48, 33, 35, 40, 42, 55],\n",
       " [3, 7, 7, 9, 3, 11, 3, 4, 7, 6],\n",
       " [20, 33, 37, 32, 27, 20, 23, 24, 29, 22],\n",
       " [15, 27, 20, 21, 20, 30, 28, 34, 30, 28],\n",
       " [27, 22, 27, 29, 41, 29, 30, 34, 34, 39],\n",
       " [27, 22, 21, 33, 19, 27, 25, 22, 26, 25],\n",
       " [11, 7, 13, 10, 16, 8, 14, 13, 13, 14],\n",
       " [27, 17, 17, 10, 34, 24, 24, 23, 26, 29],\n",
       " [26, 31, 34, 28, 34, 31, 25, 29, 48, 45],\n",
       " [46, 43, 49, 44, 47, 34, 55, 52, 59, 59],\n",
       " [11, 8, 11, 19, 19, 20, 8, 12, 14, 16],\n",
       " [7, 10, 7, 7, 8, 7, 10, 8, 5, 12],\n",
       " [26, 25, 23, 17, 19, 22, 24, 21, 22, 25],\n",
       " [10, 18, 5, 8, 9, 9, 9, 3, 3, 9],\n",
       " [9, 8, 11, 12, 6, 11, 14, 9, 10, 14],\n",
       " [0, 0, 0, 0, 0, 0, 0, 0, 0, 0],\n",
       " [-999, -999, -999, -999, -999, -999, -999, 1, -999, -999],\n",
       " [0, 0, 0, 0, 0, 0, 0, 0, 0, 0],\n",
       " [26, 26, 29, 25, 27, 21, 17, 22, 24, 23],\n",
       " [14, 16, 16, 14, 14, 11, 18, 6, 19, 12],\n",
       " [0, 0, 0, 0, 0, 0, 0, 0, 0, 0],\n",
       " [0, 0, 0, 0, 0, 0, 0, 0, 0, 0],\n",
       " [-999, 1, -999, -999, -999, -999, 1, -999, -999, -999],\n",
       " [1, 2, 1, -999, -999, -999, -999, 2, 1, 1],\n",
       " [-999, 3, 2, 1, 2, 1, 1, -999, 1, -999],\n",
       " [1, 1, 2, -999, -999, -999, -999, -999, -999, -999],\n",
       " [3, 4, 2, -999, -999, 2, 2, 1, 2, 1],\n",
       " [3, 4, 6, 2, 3, 2, 2, -999, -999, 2],\n",
       " [17, 23, 24, 13, 10, 16, 10, 8, 8, 13],\n",
       " [9, 9, 13, 3, 7, 4, 1, 3, 2, 8],\n",
       " [31, 22, 26, 23, 25, 29, 27, 25, 20, 29],\n",
       " [39, 29, 31, 42, 29, 25, 29, 32, 40, 36],\n",
       " [42, 43, 30, 31, 33, 28, 23, 22, 21, 38],\n",
       " [0, 0, 0, 0, 0, 0, 0, 0, 0, 0],\n",
       " [53, 40, 40, 49, 40, 31, 43, 46, 43, 42],\n",
       " [12, 18, 11, 13, 15, 12, 18, 12, 16, 13],\n",
       " [38, 25, 25, 23, 23, 22, 14, 19, 21, 30],\n",
       " [0, 0, 0, 0, 0, 0, 0, 0, 0, 0],\n",
       " [0, 0, 0, 0, 0, 0, 0, 0, 0, 0],\n",
       " [0, 0, 0, 0, 0, 0, 0, 0, 0, 0],\n",
       " [0, 0, 0, 0, 0, 0, 0, 0, 0, 0],\n",
       " [8, 4, 5, 3, 3, 8, 7, 1, 8, 7],\n",
       " [6, 8, 8, 7, 3, 3, 1, 5, 10, 5],\n",
       " [3, 6, 7, 6, 6, 3, 3, 4, 4, 4],\n",
       " [2, 2, 3, 4, 1, 3, 3, 1, 3, 2],\n",
       " [22, 24, 23, 20, 23, 15, 13, 25, 20, 25],\n",
       " [1, -999, 2, 2, -999, -999, -999, 1, -999, 2],\n",
       " [1, -999, -999, -999, -999, -999, -999, -999, -999, -999],\n",
       " [1, 1, -999, -999, -999, -999, -999, -999, -999, -999],\n",
       " [0, 0, 0, 0, 0, 0, 0, 0, 0, 0],\n",
       " [-999, -999, -999, -999, -999, 1, -999, -999, -999, -999]]"
      ]
     },
     "execution_count": 318,
     "metadata": {},
     "output_type": "execute_result"
    }
   ],
   "source": [
    "mat_this_year"
   ]
  },
  {
   "cell_type": "code",
   "execution_count": 310,
   "metadata": {
    "collapsed": false
   },
   "outputs": [
    {
     "data": {
      "text/plain": [
       "[0.92791569283329478,\n",
       " 0.91807606156151278,\n",
       " 0.92152832535696716,\n",
       " 0.90724231600851235,\n",
       " 0.90353480087068461]"
      ]
     },
     "execution_count": 310,
     "metadata": {},
     "output_type": "execute_result"
    }
   ],
   "source": [
    "correlation_vec_same_grade"
   ]
  },
  {
   "cell_type": "code",
   "execution_count": 325,
   "metadata": {
    "collapsed": false
   },
   "outputs": [],
   "source": [
    "from plotly.graph_objs import *\n",
    "py.sign_in('JeremyHide', '7w9xyknix4')\n",
    "trace1 = Scatter(\n",
    "x = [0,1,2,3,4],\n",
    "y = correlation_vec,\n",
    "name='Previous Grade'\n",
    ")\n",
    "trace2 = Scatter(\n",
    "x = [0,1,2,3,4],\n",
    "y = correlation_vec_same_grade,\n",
    "name='Same Grade'\n",
    ")\n",
    "corr_line_chart = Data([trace1,trace2])\n",
    "layout = Layout(\n",
    "    #title='',\n",
    "    xaxis=XAxis(\n",
    "        title='Grade',\n",
    "        titlefont=dict(\n",
    "            color='#7f7f7f'\n",
    "        )\n",
    "    ),\n",
    "    yaxis=YAxis(\n",
    "        title='Correlation with Next Year Enrollment',\n",
    "        titlefont=dict(\n",
    "            color='#7f7f7f'\n",
    "        )\n",
    "    )\n",
    ")\n",
    "fig = Figure(data=corr_line_chart, layout=layout)\n",
    "plot_url = py.plot(fig)"
   ]
  },
  {
   "cell_type": "code",
   "execution_count": 228,
   "metadata": {
    "collapsed": false
   },
   "outputs": [],
   "source": [
    "def clean_list(m,n):\n",
    "    m_new = []\n",
    "    n_new = []\n",
    "    for i in range(len(m)):\n",
    "        if m[i] != 0 and m[i] !=-999 and n[i] != 0 and n[i] != -999:\n",
    "            m_new.append(m[i])\n",
    "            n_new.append(n[i])\n",
    "    return m_new, n_new\n",
    "\n",
    "m , n =clean_list(list_2001_G4,list_2002_G5)        "
   ]
  },
  {
   "cell_type": "code",
   "execution_count": 235,
   "metadata": {
    "collapsed": false
   },
   "outputs": [
    {
     "data": {
      "text/plain": [
       "0"
      ]
     },
     "execution_count": 235,
     "metadata": {},
     "output_type": "execute_result"
    }
   ],
   "source": [
    "len(list_2001_G4_new) - len(list_2005_G5_new )"
   ]
  },
  {
   "cell_type": "code",
   "execution_count": 261,
   "metadata": {
    "collapsed": false
   },
   "outputs": [
    {
     "data": {
      "text/plain": [
       "0.77844797115841169"
      ]
     },
     "execution_count": 261,
     "metadata": {},
     "output_type": "execute_result"
    }
   ],
   "source": [
    "np.corrcoef(list_2001_G4, list_2002_G5)[0][1]"
   ]
  },
  {
   "cell_type": "code",
   "execution_count": 252,
   "metadata": {
    "collapsed": false
   },
   "outputs": [
    {
     "data": {
      "text/plain": [
       "157"
      ]
     },
     "execution_count": 252,
     "metadata": {},
     "output_type": "execute_result"
    }
   ],
   "source": [
    "len(list_2001_G4)"
   ]
  },
  {
   "cell_type": "code",
   "execution_count": 256,
   "metadata": {
    "collapsed": false
   },
   "outputs": [
    {
     "data": {
      "text/html": [
       "<div>\n",
       "<table border=\"1\" class=\"dataframe\">\n",
       "  <thead>\n",
       "    <tr style=\"text-align: right;\">\n",
       "      <th></th>\n",
       "      <th>Census_Tract</th>\n",
       "      <th>School_Year</th>\n",
       "      <th>Grade_Level</th>\n",
       "      <th>no_Students</th>\n",
       "      <th>Year</th>\n",
       "    </tr>\n",
       "  </thead>\n",
       "  <tbody>\n",
       "    <tr>\n",
       "      <th>1</th>\n",
       "      <td>18</td>\n",
       "      <td>20022003</td>\n",
       "      <td>3</td>\n",
       "      <td>1</td>\n",
       "      <td>2002</td>\n",
       "    </tr>\n",
       "    <tr>\n",
       "      <th>3</th>\n",
       "      <td>18</td>\n",
       "      <td>20032004</td>\n",
       "      <td>3</td>\n",
       "      <td>1</td>\n",
       "      <td>2003</td>\n",
       "    </tr>\n",
       "    <tr>\n",
       "      <th>9</th>\n",
       "      <td>18</td>\n",
       "      <td>20062007</td>\n",
       "      <td>3</td>\n",
       "      <td>1</td>\n",
       "      <td>2006</td>\n",
       "    </tr>\n",
       "    <tr>\n",
       "      <th>15</th>\n",
       "      <td>20</td>\n",
       "      <td>20012002</td>\n",
       "      <td>3</td>\n",
       "      <td>5</td>\n",
       "      <td>2001</td>\n",
       "    </tr>\n",
       "    <tr>\n",
       "      <th>21</th>\n",
       "      <td>20</td>\n",
       "      <td>20022003</td>\n",
       "      <td>3</td>\n",
       "      <td>2</td>\n",
       "      <td>2002</td>\n",
       "    </tr>\n",
       "    <tr>\n",
       "      <th>27</th>\n",
       "      <td>20</td>\n",
       "      <td>20032004</td>\n",
       "      <td>3</td>\n",
       "      <td>8</td>\n",
       "      <td>2003</td>\n",
       "    </tr>\n",
       "    <tr>\n",
       "      <th>33</th>\n",
       "      <td>20</td>\n",
       "      <td>20042005</td>\n",
       "      <td>3</td>\n",
       "      <td>5</td>\n",
       "      <td>2004</td>\n",
       "    </tr>\n",
       "    <tr>\n",
       "      <th>39</th>\n",
       "      <td>20</td>\n",
       "      <td>20052006</td>\n",
       "      <td>3</td>\n",
       "      <td>5</td>\n",
       "      <td>2005</td>\n",
       "    </tr>\n",
       "    <tr>\n",
       "      <th>45</th>\n",
       "      <td>20</td>\n",
       "      <td>20062007</td>\n",
       "      <td>3</td>\n",
       "      <td>9</td>\n",
       "      <td>2006</td>\n",
       "    </tr>\n",
       "    <tr>\n",
       "      <th>51</th>\n",
       "      <td>20</td>\n",
       "      <td>20072008</td>\n",
       "      <td>3</td>\n",
       "      <td>6</td>\n",
       "      <td>2007</td>\n",
       "    </tr>\n",
       "    <tr>\n",
       "      <th>57</th>\n",
       "      <td>20</td>\n",
       "      <td>20082009</td>\n",
       "      <td>3</td>\n",
       "      <td>9</td>\n",
       "      <td>2008</td>\n",
       "    </tr>\n",
       "    <tr>\n",
       "      <th>63</th>\n",
       "      <td>20</td>\n",
       "      <td>20092010</td>\n",
       "      <td>3</td>\n",
       "      <td>5</td>\n",
       "      <td>2009</td>\n",
       "    </tr>\n",
       "    <tr>\n",
       "      <th>69</th>\n",
       "      <td>20</td>\n",
       "      <td>20102011</td>\n",
       "      <td>3</td>\n",
       "      <td>10</td>\n",
       "      <td>2010</td>\n",
       "    </tr>\n",
       "    <tr>\n",
       "      <th>75</th>\n",
       "      <td>22</td>\n",
       "      <td>20012002</td>\n",
       "      <td>3</td>\n",
       "      <td>50</td>\n",
       "      <td>2001</td>\n",
       "    </tr>\n",
       "    <tr>\n",
       "      <th>81</th>\n",
       "      <td>22</td>\n",
       "      <td>20022003</td>\n",
       "      <td>3</td>\n",
       "      <td>54</td>\n",
       "      <td>2002</td>\n",
       "    </tr>\n",
       "    <tr>\n",
       "      <th>87</th>\n",
       "      <td>22</td>\n",
       "      <td>20032004</td>\n",
       "      <td>3</td>\n",
       "      <td>53</td>\n",
       "      <td>2003</td>\n",
       "    </tr>\n",
       "    <tr>\n",
       "      <th>93</th>\n",
       "      <td>22</td>\n",
       "      <td>20042005</td>\n",
       "      <td>3</td>\n",
       "      <td>49</td>\n",
       "      <td>2004</td>\n",
       "    </tr>\n",
       "    <tr>\n",
       "      <th>99</th>\n",
       "      <td>22</td>\n",
       "      <td>20052006</td>\n",
       "      <td>3</td>\n",
       "      <td>48</td>\n",
       "      <td>2005</td>\n",
       "    </tr>\n",
       "    <tr>\n",
       "      <th>105</th>\n",
       "      <td>22</td>\n",
       "      <td>20062007</td>\n",
       "      <td>3</td>\n",
       "      <td>39</td>\n",
       "      <td>2006</td>\n",
       "    </tr>\n",
       "    <tr>\n",
       "      <th>111</th>\n",
       "      <td>22</td>\n",
       "      <td>20072008</td>\n",
       "      <td>3</td>\n",
       "      <td>49</td>\n",
       "      <td>2007</td>\n",
       "    </tr>\n",
       "    <tr>\n",
       "      <th>117</th>\n",
       "      <td>22</td>\n",
       "      <td>20082009</td>\n",
       "      <td>3</td>\n",
       "      <td>40</td>\n",
       "      <td>2008</td>\n",
       "    </tr>\n",
       "    <tr>\n",
       "      <th>123</th>\n",
       "      <td>22</td>\n",
       "      <td>20092010</td>\n",
       "      <td>3</td>\n",
       "      <td>41</td>\n",
       "      <td>2009</td>\n",
       "    </tr>\n",
       "    <tr>\n",
       "      <th>129</th>\n",
       "      <td>22</td>\n",
       "      <td>20102011</td>\n",
       "      <td>3</td>\n",
       "      <td>47</td>\n",
       "      <td>2010</td>\n",
       "    </tr>\n",
       "    <tr>\n",
       "      <th>135</th>\n",
       "      <td>30</td>\n",
       "      <td>20012002</td>\n",
       "      <td>3</td>\n",
       "      <td>21</td>\n",
       "      <td>2001</td>\n",
       "    </tr>\n",
       "    <tr>\n",
       "      <th>141</th>\n",
       "      <td>30</td>\n",
       "      <td>20022003</td>\n",
       "      <td>3</td>\n",
       "      <td>15</td>\n",
       "      <td>2002</td>\n",
       "    </tr>\n",
       "    <tr>\n",
       "      <th>147</th>\n",
       "      <td>30</td>\n",
       "      <td>20032004</td>\n",
       "      <td>3</td>\n",
       "      <td>12</td>\n",
       "      <td>2003</td>\n",
       "    </tr>\n",
       "    <tr>\n",
       "      <th>153</th>\n",
       "      <td>30</td>\n",
       "      <td>20042005</td>\n",
       "      <td>3</td>\n",
       "      <td>19</td>\n",
       "      <td>2004</td>\n",
       "    </tr>\n",
       "    <tr>\n",
       "      <th>159</th>\n",
       "      <td>30</td>\n",
       "      <td>20052006</td>\n",
       "      <td>3</td>\n",
       "      <td>10</td>\n",
       "      <td>2005</td>\n",
       "    </tr>\n",
       "    <tr>\n",
       "      <th>165</th>\n",
       "      <td>30</td>\n",
       "      <td>20062007</td>\n",
       "      <td>3</td>\n",
       "      <td>13</td>\n",
       "      <td>2006</td>\n",
       "    </tr>\n",
       "    <tr>\n",
       "      <th>171</th>\n",
       "      <td>30</td>\n",
       "      <td>20072008</td>\n",
       "      <td>3</td>\n",
       "      <td>19</td>\n",
       "      <td>2007</td>\n",
       "    </tr>\n",
       "    <tr>\n",
       "      <th>...</th>\n",
       "      <td>...</td>\n",
       "      <td>...</td>\n",
       "      <td>...</td>\n",
       "      <td>...</td>\n",
       "      <td>...</td>\n",
       "    </tr>\n",
       "    <tr>\n",
       "      <th>7545</th>\n",
       "      <td>5601</td>\n",
       "      <td>20052006</td>\n",
       "      <td>3</td>\n",
       "      <td>4</td>\n",
       "      <td>2005</td>\n",
       "    </tr>\n",
       "    <tr>\n",
       "      <th>7551</th>\n",
       "      <td>5601</td>\n",
       "      <td>20062007</td>\n",
       "      <td>3</td>\n",
       "      <td>3</td>\n",
       "      <td>2006</td>\n",
       "    </tr>\n",
       "    <tr>\n",
       "      <th>7557</th>\n",
       "      <td>5601</td>\n",
       "      <td>20072008</td>\n",
       "      <td>3</td>\n",
       "      <td>5</td>\n",
       "      <td>2007</td>\n",
       "    </tr>\n",
       "    <tr>\n",
       "      <th>7563</th>\n",
       "      <td>5601</td>\n",
       "      <td>20082009</td>\n",
       "      <td>3</td>\n",
       "      <td>3</td>\n",
       "      <td>2008</td>\n",
       "    </tr>\n",
       "    <tr>\n",
       "      <th>7569</th>\n",
       "      <td>5601</td>\n",
       "      <td>20092010</td>\n",
       "      <td>3</td>\n",
       "      <td>6</td>\n",
       "      <td>2009</td>\n",
       "    </tr>\n",
       "    <tr>\n",
       "      <th>7580</th>\n",
       "      <td>5602</td>\n",
       "      <td>20012002</td>\n",
       "      <td>3</td>\n",
       "      <td>3</td>\n",
       "      <td>2001</td>\n",
       "    </tr>\n",
       "    <tr>\n",
       "      <th>7586</th>\n",
       "      <td>5602</td>\n",
       "      <td>20022003</td>\n",
       "      <td>3</td>\n",
       "      <td>4</td>\n",
       "      <td>2002</td>\n",
       "    </tr>\n",
       "    <tr>\n",
       "      <th>7592</th>\n",
       "      <td>5602</td>\n",
       "      <td>20032004</td>\n",
       "      <td>3</td>\n",
       "      <td>6</td>\n",
       "      <td>2003</td>\n",
       "    </tr>\n",
       "    <tr>\n",
       "      <th>7596</th>\n",
       "      <td>5602</td>\n",
       "      <td>20042005</td>\n",
       "      <td>3</td>\n",
       "      <td>2</td>\n",
       "      <td>2004</td>\n",
       "    </tr>\n",
       "    <tr>\n",
       "      <th>7601</th>\n",
       "      <td>5602</td>\n",
       "      <td>20052006</td>\n",
       "      <td>3</td>\n",
       "      <td>3</td>\n",
       "      <td>2005</td>\n",
       "    </tr>\n",
       "    <tr>\n",
       "      <th>7607</th>\n",
       "      <td>5602</td>\n",
       "      <td>20062007</td>\n",
       "      <td>3</td>\n",
       "      <td>3</td>\n",
       "      <td>2006</td>\n",
       "    </tr>\n",
       "    <tr>\n",
       "      <th>7613</th>\n",
       "      <td>5602</td>\n",
       "      <td>20072008</td>\n",
       "      <td>3</td>\n",
       "      <td>1</td>\n",
       "      <td>2007</td>\n",
       "    </tr>\n",
       "    <tr>\n",
       "      <th>7619</th>\n",
       "      <td>5602</td>\n",
       "      <td>20082009</td>\n",
       "      <td>3</td>\n",
       "      <td>3</td>\n",
       "      <td>2008</td>\n",
       "    </tr>\n",
       "    <tr>\n",
       "      <th>7625</th>\n",
       "      <td>5602</td>\n",
       "      <td>20092010</td>\n",
       "      <td>3</td>\n",
       "      <td>5</td>\n",
       "      <td>2009</td>\n",
       "    </tr>\n",
       "    <tr>\n",
       "      <th>7631</th>\n",
       "      <td>5602</td>\n",
       "      <td>20102011</td>\n",
       "      <td>3</td>\n",
       "      <td>2</td>\n",
       "      <td>2010</td>\n",
       "    </tr>\n",
       "    <tr>\n",
       "      <th>7637</th>\n",
       "      <td>12801</td>\n",
       "      <td>20012002</td>\n",
       "      <td>3</td>\n",
       "      <td>23</td>\n",
       "      <td>2001</td>\n",
       "    </tr>\n",
       "    <tr>\n",
       "      <th>7643</th>\n",
       "      <td>12801</td>\n",
       "      <td>20022003</td>\n",
       "      <td>3</td>\n",
       "      <td>21</td>\n",
       "      <td>2002</td>\n",
       "    </tr>\n",
       "    <tr>\n",
       "      <th>7649</th>\n",
       "      <td>12801</td>\n",
       "      <td>20032004</td>\n",
       "      <td>3</td>\n",
       "      <td>20</td>\n",
       "      <td>2003</td>\n",
       "    </tr>\n",
       "    <tr>\n",
       "      <th>7655</th>\n",
       "      <td>12801</td>\n",
       "      <td>20042005</td>\n",
       "      <td>3</td>\n",
       "      <td>25</td>\n",
       "      <td>2004</td>\n",
       "    </tr>\n",
       "    <tr>\n",
       "      <th>7661</th>\n",
       "      <td>12801</td>\n",
       "      <td>20052006</td>\n",
       "      <td>3</td>\n",
       "      <td>15</td>\n",
       "      <td>2005</td>\n",
       "    </tr>\n",
       "    <tr>\n",
       "      <th>7667</th>\n",
       "      <td>12801</td>\n",
       "      <td>20062007</td>\n",
       "      <td>3</td>\n",
       "      <td>14</td>\n",
       "      <td>2006</td>\n",
       "    </tr>\n",
       "    <tr>\n",
       "      <th>7673</th>\n",
       "      <td>12801</td>\n",
       "      <td>20072008</td>\n",
       "      <td>3</td>\n",
       "      <td>24</td>\n",
       "      <td>2007</td>\n",
       "    </tr>\n",
       "    <tr>\n",
       "      <th>7679</th>\n",
       "      <td>12801</td>\n",
       "      <td>20082009</td>\n",
       "      <td>3</td>\n",
       "      <td>19</td>\n",
       "      <td>2008</td>\n",
       "    </tr>\n",
       "    <tr>\n",
       "      <th>7685</th>\n",
       "      <td>12801</td>\n",
       "      <td>20092010</td>\n",
       "      <td>3</td>\n",
       "      <td>26</td>\n",
       "      <td>2009</td>\n",
       "    </tr>\n",
       "    <tr>\n",
       "      <th>7691</th>\n",
       "      <td>12801</td>\n",
       "      <td>20102011</td>\n",
       "      <td>3</td>\n",
       "      <td>21</td>\n",
       "      <td>2010</td>\n",
       "    </tr>\n",
       "    <tr>\n",
       "      <th>7702</th>\n",
       "      <td>46201</td>\n",
       "      <td>20022003</td>\n",
       "      <td>3</td>\n",
       "      <td>2</td>\n",
       "      <td>2002</td>\n",
       "    </tr>\n",
       "    <tr>\n",
       "      <th>7707</th>\n",
       "      <td>46201</td>\n",
       "      <td>20032004</td>\n",
       "      <td>3</td>\n",
       "      <td>2</td>\n",
       "      <td>2003</td>\n",
       "    </tr>\n",
       "    <tr>\n",
       "      <th>7712</th>\n",
       "      <td>46201</td>\n",
       "      <td>20042005</td>\n",
       "      <td>3</td>\n",
       "      <td>1</td>\n",
       "      <td>2004</td>\n",
       "    </tr>\n",
       "    <tr>\n",
       "      <th>7728</th>\n",
       "      <td>46201</td>\n",
       "      <td>20092010</td>\n",
       "      <td>3</td>\n",
       "      <td>1</td>\n",
       "      <td>2009</td>\n",
       "    </tr>\n",
       "    <tr>\n",
       "      <th>7732</th>\n",
       "      <td>46201</td>\n",
       "      <td>20102011</td>\n",
       "      <td>3</td>\n",
       "      <td>1</td>\n",
       "      <td>2010</td>\n",
       "    </tr>\n",
       "  </tbody>\n",
       "</table>\n",
       "<p>1284 rows × 5 columns</p>\n",
       "</div>"
      ],
      "text/plain": [
       "      Census_Tract  School_Year Grade_Level  no_Students  Year\n",
       "1               18     20022003           3            1  2002\n",
       "3               18     20032004           3            1  2003\n",
       "9               18     20062007           3            1  2006\n",
       "15              20     20012002           3            5  2001\n",
       "21              20     20022003           3            2  2002\n",
       "27              20     20032004           3            8  2003\n",
       "33              20     20042005           3            5  2004\n",
       "39              20     20052006           3            5  2005\n",
       "45              20     20062007           3            9  2006\n",
       "51              20     20072008           3            6  2007\n",
       "57              20     20082009           3            9  2008\n",
       "63              20     20092010           3            5  2009\n",
       "69              20     20102011           3           10  2010\n",
       "75              22     20012002           3           50  2001\n",
       "81              22     20022003           3           54  2002\n",
       "87              22     20032004           3           53  2003\n",
       "93              22     20042005           3           49  2004\n",
       "99              22     20052006           3           48  2005\n",
       "105             22     20062007           3           39  2006\n",
       "111             22     20072008           3           49  2007\n",
       "117             22     20082009           3           40  2008\n",
       "123             22     20092010           3           41  2009\n",
       "129             22     20102011           3           47  2010\n",
       "135             30     20012002           3           21  2001\n",
       "141             30     20022003           3           15  2002\n",
       "147             30     20032004           3           12  2003\n",
       "153             30     20042005           3           19  2004\n",
       "159             30     20052006           3           10  2005\n",
       "165             30     20062007           3           13  2006\n",
       "171             30     20072008           3           19  2007\n",
       "...            ...          ...         ...          ...   ...\n",
       "7545          5601     20052006           3            4  2005\n",
       "7551          5601     20062007           3            3  2006\n",
       "7557          5601     20072008           3            5  2007\n",
       "7563          5601     20082009           3            3  2008\n",
       "7569          5601     20092010           3            6  2009\n",
       "7580          5602     20012002           3            3  2001\n",
       "7586          5602     20022003           3            4  2002\n",
       "7592          5602     20032004           3            6  2003\n",
       "7596          5602     20042005           3            2  2004\n",
       "7601          5602     20052006           3            3  2005\n",
       "7607          5602     20062007           3            3  2006\n",
       "7613          5602     20072008           3            1  2007\n",
       "7619          5602     20082009           3            3  2008\n",
       "7625          5602     20092010           3            5  2009\n",
       "7631          5602     20102011           3            2  2010\n",
       "7637         12801     20012002           3           23  2001\n",
       "7643         12801     20022003           3           21  2002\n",
       "7649         12801     20032004           3           20  2003\n",
       "7655         12801     20042005           3           25  2004\n",
       "7661         12801     20052006           3           15  2005\n",
       "7667         12801     20062007           3           14  2006\n",
       "7673         12801     20072008           3           24  2007\n",
       "7679         12801     20082009           3           19  2008\n",
       "7685         12801     20092010           3           26  2009\n",
       "7691         12801     20102011           3           21  2010\n",
       "7702         46201     20022003           3            2  2002\n",
       "7707         46201     20032004           3            2  2003\n",
       "7712         46201     20042005           3            1  2004\n",
       "7728         46201     20092010           3            1  2009\n",
       "7732         46201     20102011           3            1  2010\n",
       "\n",
       "[1284 rows x 5 columns]"
      ]
     },
     "execution_count": 256,
     "metadata": {},
     "output_type": "execute_result"
    }
   ],
   "source": [
    "data[data['Grade_Level']== '3']"
   ]
  },
  {
   "cell_type": "code",
   "execution_count": 257,
   "metadata": {
    "collapsed": false
   },
   "outputs": [
    {
     "ename": "TypeError",
     "evalue": "'str' object cannot be interpreted as an integer",
     "output_type": "error",
     "traceback": [
      "\u001b[0;31m---------------------------------------------------------------------------\u001b[0m",
      "\u001b[0;31mTypeError\u001b[0m                                 Traceback (most recent call last)",
      "\u001b[0;32m<ipython-input-257-227359876a4b>\u001b[0m in \u001b[0;36m<module>\u001b[0;34m()\u001b[0m\n\u001b[0;32m----> 1\u001b[0;31m \u001b[0mrange\u001b[0m\u001b[0;34m(\u001b[0m\u001b[0;34m'0'\u001b[0m\u001b[0;34m,\u001b[0m\u001b[0;34m'6'\u001b[0m\u001b[0;34m)\u001b[0m\u001b[0;34m\u001b[0m\u001b[0m\n\u001b[0m",
      "\u001b[0;31mTypeError\u001b[0m: 'str' object cannot be interpreted as an integer"
     ]
    }
   ],
   "source": [
    "range('0','6')"
   ]
  },
  {
   "cell_type": "code",
   "execution_count": null,
   "metadata": {
    "collapsed": true
   },
   "outputs": [],
   "source": []
  }
 ],
 "metadata": {
  "anaconda-cloud": {},
  "kernelspec": {
   "display_name": "Python [Root]",
   "language": "python",
   "name": "Python [Root]"
  },
  "language_info": {
   "codemirror_mode": {
    "name": "ipython",
    "version": 3
   },
   "file_extension": ".py",
   "mimetype": "text/x-python",
   "name": "python",
   "nbconvert_exporter": "python",
   "pygments_lexer": "ipython3",
   "version": "3.5.2"
  }
 },
 "nbformat": 4,
 "nbformat_minor": 0
}
