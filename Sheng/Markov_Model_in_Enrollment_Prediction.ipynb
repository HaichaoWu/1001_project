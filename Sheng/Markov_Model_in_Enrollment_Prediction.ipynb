{
 "cells": [
  {
   "cell_type": "markdown",
   "metadata": {},
   "source": [
    "# Markov Model in Enrollment Prediction\n",
    "### Sheng Liu, Haichao Wu\n",
    "### Monday, Nov.  30, 2016"
   ]
  },
  {
   "cell_type": "code",
   "execution_count": 2,
   "metadata": {
    "collapsed": false
   },
   "outputs": [],
   "source": [
    "import pandas as pd\n",
    "import numpy as np\n",
    "import warnings\n",
    "from sklearn import preprocessing\n",
    "warnings.filterwarnings('ignore')\n",
    "data = pd.read_csv('../CSD20_Resident_Data_Phase_1.csv', header = 0, sep = ',')#, index_col = 0)\n",
    "data['Year'] = np.round(data['School Year']/10000)"
   ]
  },
  {
   "cell_type": "markdown",
   "metadata": {},
   "source": [
    "<img src=\"img2.jpeg\",width=800,height=800>"
   ]
  },
  {
   "cell_type": "markdown",
   "metadata": {},
   "source": [
    "<img src=\"img1.jpeg\",width=800,height=800>"
   ]
  },
  {
   "cell_type": "markdown",
   "metadata": {},
   "source": [
    "<img src=\"img3.jpeg\",width=800,height=800>"
   ]
  },
  {
   "cell_type": "code",
   "execution_count": 213,
   "metadata": {
    "collapsed": false
   },
   "outputs": [
    {
     "name": "stdout",
     "output_type": "stream",
     "text": [
      "2001.0\n",
      "2002.0\n",
      "2003.0\n",
      "2004.0\n",
      "2005.0\n",
      "2006.0\n",
      "2007.0\n",
      "2008.0\n",
      "2009.0\n",
      "2010.0\n"
     ]
    }
   ],
   "source": [
    "census_tract = 20\n",
    "census20_data = data[data['2010 Census Tract']== census_tract]\n",
    "A_dict = {}\n",
    "B_dict = {}\n",
    "for year in np.unique(census20_data['Year']):\n",
    "    print(year)\n",
    "    A = np.zeros([5,6])\n",
    "    B = np.zeros(5)\n",
    "    Census20_data = census20_data[census20_data['Year'] == year]\n",
    "    Census20_data_next_year = census20_data[census20_data['Year'] == year+1]\n",
    "    A[0][0] = int(Census20_data[Census20_data['Grade Level']=='K']['Count of Students'].values)\n",
    "    A[0][1] = int(Census20_data[Census20_data['Grade Level']=='1']['Count of Students'].values)\n",
    "    A[1][1] = int(Census20_data[Census20_data['Grade Level']=='1']['Count of Students'].values)\n",
    "    A[1][2] = int(Census20_data[Census20_data['Grade Level']=='2']['Count of Students'].values)\n",
    "    A[2][2] = int(Census20_data[Census20_data['Grade Level']=='2']['Count of Students'].values)\n",
    "    A[2][3] = int(Census20_data[Census20_data['Grade Level']=='3']['Count of Students'].values)\n",
    "    A[3][3] = int(Census20_data[Census20_data['Grade Level']=='3']['Count of Students'].values)\n",
    "    A[3][4] = int(Census20_data[Census20_data['Grade Level']=='4']['Count of Students'].values)\n",
    "    A[4][4] = int(Census20_data[Census20_data['Grade Level']=='4']['Count of Students'].values)\n",
    "    A[:,5] = 80\n",
    "    #A[0][6] = -int(Census20_data[Census20_data['Grade Level']=='1']['Count of Students'].values)\n",
    "    #A[1][6] = -int(Census20_data[Census20_data['Grade Level']=='2']['Count of Students'].values)\n",
    "    #A[2][6] = -int(Census20_data[Census20_data['Grade Level']=='3']['Count of Students'].values)\n",
    "    #A[3][6] = -int(Census20_data[Census20_data['Grade Level']=='4']['Count of Students'].values)\n",
    "    #A[4][6] = -int(Census20_data[Census20_data['Grade Level']=='5']['Count of Students'].values)\n",
    "    if np.size(Census20_data_next_year) > 0:\n",
    "        B = Census20_data_next_year['Count of Students'].values[1:] + Census20_data['Count of Students'].values[1:]\n",
    "        B_dict[int(year-2000)] = B\n",
    "    A_dict[int(year-2000)] = A\n",
    "    \n",
    "    \n",
    "    "
   ]
  },
  {
   "cell_type": "code",
   "execution_count": 189,
   "metadata": {
    "collapsed": false
   },
   "outputs": [],
   "source": [
    "A[0][0] = int(Census20_data[Census20_data['Grade Level']=='K']['Count of Students'].values)\n",
    "A[0][1] = int(Census20_data[Census20_data['Grade Level']=='1']['Count of Students'].values)\n",
    "A[1][1] = int(Census20_data[Census20_data['Grade Level']=='1']['Count of Students'].values)\n",
    "A[1][2] = int(Census20_data[Census20_data['Grade Level']=='2']['Count of Students'].values)\n",
    "A[2][2] = int(Census20_data[Census20_data['Grade Level']=='2']['Count of Students'].values)\n",
    "A[2][3] = int(Census20_data[Census20_data['Grade Level']=='3']['Count of Students'].values)\n",
    "A[3][3] = int(Census20_data[Census20_data['Grade Level']=='3']['Count of Students'].values)\n",
    "A[3][4] = int(Census20_data[Census20_data['Grade Level']=='4']['Count of Students'].values)\n",
    "A[4][4] = int(Census20_data[Census20_data['Grade Level']=='4']['Count of Students'].values)\n",
    "A[:,5] = 50\n",
    "#A[0][6] = -int(Census20_data[Census20_data['Grade Level']=='1']['Count of Students'].values)\n",
    "#A[1][6] = -int(Census20_data[Census20_data['Grade Level']=='2']['Count of Students'].values)\n",
    "#A[2][6] = -int(Census20_data[Census20_data['Grade Level']=='3']['Count of Students'].values)\n",
    "#A[3][6] = -int(Census20_data[Census20_data['Grade Level']=='4']['Count of Students'].values)\n",
    "#A[4][6] = -int(Census20_data[Census20_data['Grade Level']=='5']['Count of Students'].values)"
   ]
  },
  {
   "cell_type": "code",
   "execution_count": 216,
   "metadata": {
    "collapsed": false
   },
   "outputs": [],
   "source": [
    "A_sum = np.zeros([6,6])\n",
    "bA_sum =np.zeros(6)\n",
    "for key in range(1,6):\n",
    "    A_sum += np.dot(A_dict[key].T, A_dict[key])\n",
    "\n",
    "for key in range(1,6):\n",
    "    bA_sum = bA_sum + np.dot(B_dict[key],A_dict[key])    "
   ]
  },
  {
   "cell_type": "code",
   "execution_count": 217,
   "metadata": {
    "collapsed": false
   },
   "outputs": [],
   "source": [
    "from cvxopt import matrix, solvers\n",
    "m = matrix(A_sum)\n",
    "n = matrix(bA_sum)"
   ]
  },
  {
   "cell_type": "code",
   "execution_count": 206,
   "metadata": {
    "collapsed": false
   },
   "outputs": [
    {
     "data": {
      "text/plain": [
       "<6x6 matrix, tc='d'>"
      ]
     },
     "execution_count": 206,
     "metadata": {},
     "output_type": "execute_result"
    }
   ],
   "source": [
    "m"
   ]
  },
  {
   "cell_type": "code",
   "execution_count": 207,
   "metadata": {
    "collapsed": false
   },
   "outputs": [
    {
     "data": {
      "text/plain": [
       "<6x1 matrix, tc='d'>"
      ]
     },
     "execution_count": 207,
     "metadata": {},
     "output_type": "execute_result"
    }
   ],
   "source": [
    "n"
   ]
  },
  {
   "cell_type": "code",
   "execution_count": 218,
   "metadata": {
    "collapsed": false
   },
   "outputs": [],
   "source": [
    "sol=solvers.qp(m, -n)"
   ]
  },
  {
   "cell_type": "code",
   "execution_count": 219,
   "metadata": {
    "collapsed": false
   },
   "outputs": [
    {
     "name": "stdout",
     "output_type": "stream",
     "text": [
      "[ 8.29e-01]\n",
      "[ 5.99e-01]\n",
      "[ 8.59e-01]\n",
      "[ 3.71e-01]\n",
      "[ 9.27e-01]\n",
      "[ 4.99e-02]\n",
      "\n"
     ]
    }
   ],
   "source": [
    "print(sol['x'])"
   ]
  },
  {
   "cell_type": "code",
   "execution_count": 210,
   "metadata": {
    "collapsed": false
   },
   "outputs": [
    {
     "name": "stdout",
     "output_type": "stream",
     "text": [
      "[ 3.92e-01]\n",
      "[ 1.75e-01]\n",
      "[ 4.37e-01]\n",
      "[ 1.48e+00]\n",
      "[-5.37e+00]\n",
      "\n"
     ]
    }
   ],
   "source": [
    "l = matrix(A_dict[5])\n",
    "k = matrix(B_dict[5])\n",
    "print(l*sol['x']- k)"
   ]
  },
  {
   "cell_type": "code",
   "execution_count": 148,
   "metadata": {
    "collapsed": false
   },
   "outputs": [
    {
     "data": {
      "text/plain": [
       "<7x1 matrix, tc='d'>"
      ]
     },
     "execution_count": 148,
     "metadata": {},
     "output_type": "execute_result"
    }
   ],
   "source": []
  },
  {
   "cell_type": "code",
   "execution_count": 150,
   "metadata": {
    "collapsed": false
   },
   "outputs": [
    {
     "data": {
      "text/plain": [
       "array([[   148.,    146.,      0.,      0.,      0.,   1300.,   -146.],\n",
       "       [   146.,    388.,    149.,      0.,      0.,   3000.,   -343.],\n",
       "       [     0.,    149.,    334.,    122.,      0.,   2500.,   -289.],\n",
       "       [     0.,      0.,    122.,    286.,    130.,   2500.,   -273.],\n",
       "       [     0.,      0.,      0.,    130.,    312.,   2600.,   -290.],\n",
       "       [  1300.,   3000.,   2500.,   2500.,   2600.,  62500.,  -6550.],\n",
       "       [  -146.,   -343.,   -289.,   -273.,   -290.,  -6550.,    817.]])"
      ]
     },
     "execution_count": 150,
     "metadata": {},
     "output_type": "execute_result"
    }
   ],
   "source": []
  },
  {
   "cell_type": "code",
   "execution_count": null,
   "metadata": {
    "collapsed": true
   },
   "outputs": [],
   "source": []
  }
 ],
 "metadata": {
  "anaconda-cloud": {},
  "kernelspec": {
   "display_name": "Python [conda root]",
   "language": "python",
   "name": "conda-root-py"
  },
  "language_info": {
   "codemirror_mode": {
    "name": "ipython",
    "version": 3
   },
   "file_extension": ".py",
   "mimetype": "text/x-python",
   "name": "python",
   "nbconvert_exporter": "python",
   "pygments_lexer": "ipython3",
   "version": "3.5.2"
  }
 },
 "nbformat": 4,
 "nbformat_minor": 1
}
