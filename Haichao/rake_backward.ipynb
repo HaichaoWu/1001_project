{
 "cells": [
  {
   "cell_type": "code",
   "execution_count": 101,
   "metadata": {
    "collapsed": false
   },
   "outputs": [],
   "source": [
    "import pandas as pd\n",
    "import numpy as np\n",
    "#data = pd.read_csv(\"nyc_tract_2000.csv\" , sep =',')\n",
    "data = pd.read_csv(\"nyc_tract_2010.csv\" , sep =',')\n",
    "#data = pd.read_csv(\"brooklyn_tract_2010.csv\" , sep =',')"
   ]
  },
  {
   "cell_type": "code",
   "execution_count": 102,
   "metadata": {
    "collapsed": false
   },
   "outputs": [],
   "source": [
    "#data_pre = pd.read_csv(\"Brooklyn_Age_Group_2011_2015.csv\")\n",
    "data_pre = pd.read_csv(\"nyc_by_age_2001_2014.csv\")\n",
    "pop_pre = data_pre.values\n",
    "pop = data.values"
   ]
  },
  {
   "cell_type": "code",
   "execution_count": 103,
   "metadata": {
    "collapsed": false
   },
   "outputs": [],
   "source": [
    "n_area= len(data)\n",
    "n_year = 15\n",
    "n_age = 14"
   ]
  },
  {
   "cell_type": "code",
   "execution_count": 104,
   "metadata": {
    "collapsed": false
   },
   "outputs": [],
   "source": [
    "p = np.zeros((n_year,n_area,n_age))\n",
    "pr = np.zeros((n_year,n_area,n_age))\n",
    "pc = np.zeros((n_year,n_area,n_age))\n",
    "r = np.zeros((n_year,n_area))\n",
    "ft = np.zeros((n_year,n_age))\n",
    "ftt = np.zeros(n_year)\n",
    "sad = np.zeros((n_year,101))\n",
    "f = np.zeros((n_year,n_area))\n",
    "cf = np.zeros((n_year,n_area))\n",
    "rf = np.zeros((n_year,n_area))"
   ]
  },
  {
   "cell_type": "code",
   "execution_count": null,
   "metadata": {
    "collapsed": true
   },
   "outputs": [],
   "source": [
    "pop_pre"
   ]
  },
  {
   "cell_type": "code",
   "execution_count": 105,
   "metadata": {
    "collapsed": false
   },
   "outputs": [
    {
     "ename": "ValueError",
     "evalue": "invalid literal for float(): 0-4",
     "output_type": "error",
     "traceback": [
      "\u001b[0;31m---------------------------------------------------------------------------\u001b[0m",
      "\u001b[0;31mValueError\u001b[0m                                Traceback (most recent call last)",
      "\u001b[0;32m<ipython-input-105-57570e75c1b6>\u001b[0m in \u001b[0;36m<module>\u001b[0;34m()\u001b[0m\n\u001b[1;32m      1\u001b[0m \u001b[0;32mfor\u001b[0m \u001b[0myear\u001b[0m \u001b[0;32min\u001b[0m \u001b[0mrange\u001b[0m\u001b[0;34m(\u001b[0m\u001b[0;36m0\u001b[0m\u001b[0;34m,\u001b[0m\u001b[0;36m15\u001b[0m\u001b[0;34m)\u001b[0m\u001b[0;34m:\u001b[0m\u001b[0;34m\u001b[0m\u001b[0m\n\u001b[1;32m      2\u001b[0m     \u001b[0;32mfor\u001b[0m \u001b[0mj\u001b[0m \u001b[0;32min\u001b[0m \u001b[0mrange\u001b[0m\u001b[0;34m(\u001b[0m\u001b[0mn_age\u001b[0m\u001b[0;34m)\u001b[0m\u001b[0;34m:\u001b[0m\u001b[0;34m\u001b[0m\u001b[0m\n\u001b[0;32m----> 3\u001b[0;31m         \u001b[0mft\u001b[0m\u001b[0;34m[\u001b[0m\u001b[0myear\u001b[0m\u001b[0;34m,\u001b[0m\u001b[0mj\u001b[0m\u001b[0;34m]\u001b[0m\u001b[0;34m=\u001b[0m\u001b[0mpop_pre\u001b[0m\u001b[0;34m[\u001b[0m\u001b[0mj\u001b[0m\u001b[0;34m,\u001b[0m\u001b[0myear\u001b[0m\u001b[0;34m]\u001b[0m\u001b[0;34m\u001b[0m\u001b[0m\n\u001b[0m",
      "\u001b[0;31mValueError\u001b[0m: invalid literal for float(): 0-4"
     ]
    }
   ],
   "source": [
    "for year in range(1,15):\n",
    "    for j in range(n_age):\n",
    "        ft[year,j]=pop_pre[j,year]"
   ]
  },
  {
   "cell_type": "code",
   "execution_count": 88,
   "metadata": {
    "collapsed": false
   },
   "outputs": [],
   "source": [
    "for i in range(n_area):\n",
    "    for j in range(n_age):\n",
    "        pr[10,i,j] = pop[i,j+3]        "
   ]
  },
  {
   "cell_type": "code",
   "execution_count": 45,
   "metadata": {
    "collapsed": false
   },
   "outputs": [],
   "source": [
    "for year in range(10,0,-1):\n",
    "    sad[year][0] = 100\n",
    "    for i in range(n_area):\n",
    "        for j in range(n_age):\n",
    "            pr[year,i,j] = pr[10,i,j]\n",
    "            r[year,i] += pr[year,i,j]\n",
    "    s=0\n",
    "    for j in range(n_age):\n",
    "        s+=ft[year,j]\n",
    "    ftt[year] = s\n",
    "    s=0\n",
    "    for i in range(n_area):\n",
    "        s += r[year,i]\n",
    "    k = ftt[year]/s\n",
    "    for i in range(n_area):\n",
    "        f[year,i] = k*r[year,i]\n",
    "    for i in range(n_area):\n",
    "        s=0\n",
    "        for j in range(n_age):\n",
    "            s+=pr[year,i,j]\n",
    "        s+=0.000001\n",
    "        cf[year,i] = f[year,i]/s\n",
    "        for j in range(n_age):\n",
    "            pc[year,i,j] = cf[year,i]*pr[year,i,j]\n",
    "    itr = 0\n",
    "    while (itr<100):\n",
    "        itr+=1\n",
    "        for i in range(n_age):\n",
    "            s=0\n",
    "            for j in range(n_area):\n",
    "                s+= pc[year,j,i]\n",
    "            s+=0.000001\n",
    "            rf[year,i] = ft[year,i]/s\n",
    "            for j in range(n_area):\n",
    "                pr[year,j,i] = rf[year,i]*pc[year,j,i]\n",
    "        for i in range(n_area):\n",
    "            s=0\n",
    "            for j in range(n_age):\n",
    "                s+=pr[year,i,j]\n",
    "            s+=0.000001\n",
    "            cf[year,i] = f[year,i]/s\n",
    "            for j in range(1,n_age):\n",
    "                pc[year,i,j] = cf[year,i]*pr[year,i,j]\n",
    "        sad[year] = 0\n",
    "        for j in range(n_age):\n",
    "            s=0\n",
    "            for i in range(n_area):\n",
    "                s+=pc[year,i,j]\n",
    "            s+=0.000001\n",
    "            sad[year][itr]+= np.abs(ft[year,j]-s)\n",
    "    for j in range(n_age):\n",
    "        s=0\n",
    "        for i in range(n_area):\n",
    "            s+=pc[year,i,j]\n",
    "        s+=0.000001\n",
    "        rf[year,j]=ft[year,j]/s\n",
    "    for j in range(n_age):\n",
    "        s=0\n",
    "        ss=0\n",
    "        for i in range(n_area):\n",
    "            s+=pc[year,i,j]\n",
    "            pr[year,i,j] = np.floor(rf[year,j]*s)-ss\n",
    "            ss +=pr[year,i,j]"
   ]
  },
  {
   "cell_type": "code",
   "execution_count": 383,
   "metadata": {
    "collapsed": false
   },
   "outputs": [
    {
     "data": {
      "text/plain": [
       "array([ 143.,  142.,  120.,  143.,  143.,  166.,  166.,  143.,  111.,\n",
       "        100.,   98.,   73.,   48.,   93.])"
      ]
     },
     "execution_count": 383,
     "metadata": {},
     "output_type": "execute_result"
    }
   ],
   "source": [
    "pr[1][11] #brooklyn data"
   ]
  },
  {
   "cell_type": "code",
   "execution_count": 367,
   "metadata": {
    "collapsed": false
   },
   "outputs": [
    {
     "data": {
      "text/plain": [
       "array([ 143.,  144.,  120.,  143.,  141.,  166.,  165.,  140.,  111.,\n",
       "        101.,   98.,   73.,   48.,   94.])"
      ]
     },
     "execution_count": 367,
     "metadata": {},
     "output_type": "execute_result"
    }
   ],
   "source": [
    "pr[1][350]#nyc data"
   ]
  },
  {
   "cell_type": "code",
   "execution_count": 368,
   "metadata": {
    "collapsed": false
   },
   "outputs": [
    {
     "data": {
      "text/plain": [
       "array([ 139.,  142.,  120.,  151.,  140.,  162.,  160.,  141.,  110.,\n",
       "        101.,   97.,   71.,   46.,   92.])"
      ]
     },
     "execution_count": 368,
     "metadata": {},
     "output_type": "execute_result"
    }
   ],
   "source": [
    "p[0][350] #2010 original"
   ]
  },
  {
   "cell_type": "code",
   "execution_count": 47,
   "metadata": {
    "collapsed": false
   },
   "outputs": [
    {
     "data": {
      "text/plain": [
       "array([[   0.,    0.,    0., ...,  221.,   80.,   51.],\n",
       "       [ 321.,  358.,  416., ...,  187.,  164.,  432.],\n",
       "       [ 391.,  462.,  484., ...,  250.,  201.,  395.],\n",
       "       ..., \n",
       "       [ 505.,  462.,  534., ...,  176.,  109.,  225.],\n",
       "       [  91.,   92.,   95., ...,   67.,   40.,   97.],\n",
       "       [   0.,    0.,    0., ...,    0.,    0.,    0.]])"
      ]
     },
     "execution_count": 47,
     "metadata": {},
     "output_type": "execute_result"
    }
   ],
   "source": [
    "pr[1]"
   ]
  },
  {
   "cell_type": "code",
   "execution_count": 49,
   "metadata": {
    "collapsed": false
   },
   "outputs": [
    {
     "data": {
      "text/plain": [
       "array([[   0.,    0.,    0., ...,  269.,  103.,   54.],\n",
       "       [ 306.,  313.,  364., ...,  232.,  215.,  459.],\n",
       "       [ 372.,  405.,  425., ...,  311.,  264.,  421.],\n",
       "       ..., \n",
       "       [ 481.,  410.,  474., ...,  222.,  145.,  243.],\n",
       "       [  87.,   80.,   83., ...,   83.,   53.,  103.],\n",
       "       [   0.,    0.,    0., ...,    0.,    0.,    0.]])"
      ]
     },
     "execution_count": 49,
     "metadata": {},
     "output_type": "execute_result"
    }
   ],
   "source": [
    "pr[10]"
   ]
  },
  {
   "cell_type": "code",
   "execution_count": 26,
   "metadata": {
    "collapsed": true
   },
   "outputs": [],
   "source": [
    "import csv\n",
    "csvfile = file('2000_predict_backward.csv', 'wb')\n",
    "writer = csv.writer(csvfile)\n",
    "writer.writerows(pr[1])\n",
    "csvfile.close()"
   ]
  }
 ],
 "metadata": {
  "anaconda-cloud": {},
  "kernelspec": {
   "display_name": "Python [default]",
   "language": "python",
   "name": "python2"
  },
  "language_info": {
   "codemirror_mode": {
    "name": "ipython",
    "version": 2
   },
   "file_extension": ".py",
   "mimetype": "text/x-python",
   "name": "python",
   "nbconvert_exporter": "python",
   "pygments_lexer": "ipython2",
   "version": "2.7.12"
  }
 },
 "nbformat": 4,
 "nbformat_minor": 1
}
