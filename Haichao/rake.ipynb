{
 "cells": [
  {
   "cell_type": "code",
   "execution_count": 1,
   "metadata": {
    "collapsed": false
   },
   "outputs": [],
   "source": [
    "import pandas as pd\n",
    "import numpy as np\n",
    "data = pd.read_csv(\"nyc_tract_2000.csv\" , sep =',')\n",
    "#data = pd.read_csv(\"nyc_tract_2010.csv\" , sep =',')\n",
    "#data = pd.read_csv(\"brooklyn_tract_2010.csv\" , sep =',')"
   ]
  },
  {
   "cell_type": "code",
   "execution_count": 2,
   "metadata": {
    "collapsed": false
   },
   "outputs": [],
   "source": [
    "#data_pre = pd.read_csv(\"Brooklyn_Age_Group_2011_2015.csv\")\n",
    "data_pre = pd.read_csv(\"nyc_by_age_2001_2014.csv\")\n",
    "pop_pre = data_pre.values\n",
    "pop = data.values"
   ]
  },
  {
   "cell_type": "code",
   "execution_count": 3,
   "metadata": {
    "collapsed": false
   },
   "outputs": [],
   "source": [
    "n_area= len(data)\n",
    "n_year = 15\n",
    "n_age = 14"
   ]
  },
  {
   "cell_type": "code",
   "execution_count": 4,
   "metadata": {
    "collapsed": false
   },
   "outputs": [],
   "source": [
    "p = np.zeros((n_year,n_area,n_age))\n",
    "pr = np.zeros((n_year,n_area,n_age))\n",
    "pc = np.zeros((n_year,n_area,n_age))\n",
    "r = np.zeros((n_year,n_area))\n",
    "ft = np.zeros((n_year,n_age))\n",
    "ftt = np.zeros(n_year)\n",
    "sad = np.zeros((n_year,101))\n",
    "f = np.zeros((n_year,n_area))\n",
    "cf = np.zeros((n_year,n_area))\n",
    "rf = np.zeros((n_year,n_area))"
   ]
  },
  {
   "cell_type": "code",
   "execution_count": 5,
   "metadata": {
    "collapsed": false
   },
   "outputs": [],
   "source": [
    "for year in range(1,15):\n",
    "    for j in range(n_age):\n",
    "        ft[year,j]=pop_pre[j,year]"
   ]
  },
  {
   "cell_type": "code",
   "execution_count": 6,
   "metadata": {
    "collapsed": false
   },
   "outputs": [
    {
     "data": {
      "text/plain": [
       "array([['Bronx', 1, 12780, ..., 64, 61, 32.1],\n",
       "       ['Bronx', 2, 3545, ..., 163, 373, 32.7],\n",
       "       ['Bronx', 4, 3314, ..., 111, 257, 32.7],\n",
       "       ..., \n",
       "       ['Brooklyn', 1210, 3986, ..., 133, 261, 24.9],\n",
       "       ['Brooklyn', 1214, 4384, ..., 179, 240, 24.1],\n",
       "       ['Brooklyn', 1220, 2555, ..., 88, 184, 29.8]], dtype=object)"
      ]
     },
     "execution_count": 6,
     "metadata": {},
     "output_type": "execute_result"
    }
   ],
   "source": [
    "pop"
   ]
  },
  {
   "cell_type": "code",
   "execution_count": 7,
   "metadata": {
    "collapsed": false
   },
   "outputs": [],
   "source": [
    "for i in range(n_area):\n",
    "    for j in range(n_age):\n",
    "        pr[0,i,j] = pop[i,j+3]        "
   ]
  },
  {
   "cell_type": "code",
   "execution_count": 424,
   "metadata": {
    "collapsed": false
   },
   "outputs": [
    {
     "data": {
      "text/plain": [
       "array([[[   0.,    0.,    0., ...,  138.,   64.,   61.],\n",
       "        [ 279.,  314.,  328., ...,  151.,  163.,  373.],\n",
       "        [ 244.,  313.,  299., ...,  169.,  111.,  257.],\n",
       "        ..., \n",
       "        [ 354.,  463.,  488., ...,  173.,  133.,  261.],\n",
       "        [ 382.,  535.,  549., ...,  188.,  179.,  240.],\n",
       "        [ 216.,  236.,  253., ...,   88.,   88.,  184.]],\n",
       "\n",
       "       [[   0.,    0.,    0., ...,    0.,    0.,    0.],\n",
       "        [   0.,    0.,    0., ...,    0.,    0.,    0.],\n",
       "        [   0.,    0.,    0., ...,    0.,    0.,    0.],\n",
       "        ..., \n",
       "        [   0.,    0.,    0., ...,    0.,    0.,    0.],\n",
       "        [   0.,    0.,    0., ...,    0.,    0.,    0.],\n",
       "        [   0.,    0.,    0., ...,    0.,    0.,    0.]],\n",
       "\n",
       "       [[   0.,    0.,    0., ...,    0.,    0.,    0.],\n",
       "        [   0.,    0.,    0., ...,    0.,    0.,    0.],\n",
       "        [   0.,    0.,    0., ...,    0.,    0.,    0.],\n",
       "        ..., \n",
       "        [   0.,    0.,    0., ...,    0.,    0.,    0.],\n",
       "        [   0.,    0.,    0., ...,    0.,    0.,    0.],\n",
       "        [   0.,    0.,    0., ...,    0.,    0.,    0.]],\n",
       "\n",
       "       ..., \n",
       "       [[   0.,    0.,    0., ...,    0.,    0.,    0.],\n",
       "        [   0.,    0.,    0., ...,    0.,    0.,    0.],\n",
       "        [   0.,    0.,    0., ...,    0.,    0.,    0.],\n",
       "        ..., \n",
       "        [   0.,    0.,    0., ...,    0.,    0.,    0.],\n",
       "        [   0.,    0.,    0., ...,    0.,    0.,    0.],\n",
       "        [   0.,    0.,    0., ...,    0.,    0.,    0.]],\n",
       "\n",
       "       [[   0.,    0.,    0., ...,    0.,    0.,    0.],\n",
       "        [   0.,    0.,    0., ...,    0.,    0.,    0.],\n",
       "        [   0.,    0.,    0., ...,    0.,    0.,    0.],\n",
       "        ..., \n",
       "        [   0.,    0.,    0., ...,    0.,    0.,    0.],\n",
       "        [   0.,    0.,    0., ...,    0.,    0.,    0.],\n",
       "        [   0.,    0.,    0., ...,    0.,    0.,    0.]],\n",
       "\n",
       "       [[   0.,    0.,    0., ...,    0.,    0.,    0.],\n",
       "        [   0.,    0.,    0., ...,    0.,    0.,    0.],\n",
       "        [   0.,    0.,    0., ...,    0.,    0.,    0.],\n",
       "        ..., \n",
       "        [   0.,    0.,    0., ...,    0.,    0.,    0.],\n",
       "        [   0.,    0.,    0., ...,    0.,    0.,    0.],\n",
       "        [   0.,    0.,    0., ...,    0.,    0.,    0.]]])"
      ]
     },
     "execution_count": 424,
     "metadata": {},
     "output_type": "execute_result"
    }
   ],
   "source": [
    "pr"
   ]
  },
  {
   "cell_type": "code",
   "execution_count": null,
   "metadata": {
    "collapsed": false
   },
   "outputs": [],
   "source": [
    "for year in range(1,11):\n",
    "    sad[year][0] = 100\n",
    "    for i in range(n_area):\n",
    "        for j in range(n_age):\n",
    "            pr[year,i,j] = pr[0,i,j]\n",
    "            r[year,i] += pr[year,i,j]\n",
    "    s=0\n",
    "    for j in range(n_age):\n",
    "        s+=ft[year,j]\n",
    "    ftt[year] = s\n",
    "    s=0\n",
    "    for i in range(n_area):\n",
    "        s += r[year,i]\n",
    "    k = ftt[year]/s\n",
    "    for i in range(n_area):\n",
    "        f[year,i] = k*r[year,i]\n",
    "    for i in range(n_area):\n",
    "        s=0\n",
    "        for j in range(n_age):\n",
    "            s+=pr[year,i,j]\n",
    "        s+=0.000001\n",
    "        cf[year,i] = f[year,i]/s\n",
    "        for j in range(n_age):\n",
    "            pc[year,i,j] = cf[year,i]*pr[year,i,j]\n",
    "    itr = 0\n",
    "    while (itr<100):\n",
    "        itr+=1\n",
    "        for i in range(n_age):\n",
    "            s=0\n",
    "            for j in range(n_area):\n",
    "                s+= pc[year,j,i]\n",
    "            s+=0.000001\n",
    "            rf[year,i] = ft[year,i]/s\n",
    "            for j in range(n_area):\n",
    "                pr[year,j,i] = rf[year,i]*pc[year,j,i]\n",
    "        for i in range(n_area):\n",
    "            s=0\n",
    "            for j in range(n_age):\n",
    "                s+=pr[year,i,j]\n",
    "            s+=0.000001\n",
    "            cf[year,i] = f[year,i]/s\n",
    "            for j in range(1,n_age):\n",
    "                pc[year,i,j] = cf[year,i]*pr[year,i,j]\n",
    "        sad[year] = 0\n",
    "        for j in range(n_age):\n",
    "            s=0\n",
    "            for i in range(n_area):\n",
    "                s+=pc[year,i,j]\n",
    "            s+=0.000001\n",
    "            sad[year][itr]+= np.abs(ft[year,j]-s)\n",
    "    for j in range(n_age):\n",
    "        s=0\n",
    "        for i in range(n_area):\n",
    "            s+=pc[year,i,j]\n",
    "        s+=0.000001\n",
    "        rf[year,j]=ft[year,j]/s\n",
    "    for j in range(n_age):\n",
    "        s=0\n",
    "        ss=0\n",
    "        for i in range(n_area):\n",
    "            s+=pc[year,i,j]\n",
    "            pr[year,i,j] = np.floor(rf[year,j]*s)-ss\n",
    "            ss +=pr[year,i,j]"
   ]
  },
  {
   "cell_type": "code",
   "execution_count": 383,
   "metadata": {
    "collapsed": false
   },
   "outputs": [
    {
     "data": {
      "text/plain": [
       "array([ 143.,  142.,  120.,  143.,  143.,  166.,  166.,  143.,  111.,\n",
       "        100.,   98.,   73.,   48.,   93.])"
      ]
     },
     "execution_count": 383,
     "metadata": {},
     "output_type": "execute_result"
    }
   ],
   "source": [
    "pr[1][11] #brooklyn data"
   ]
  },
  {
   "cell_type": "code",
   "execution_count": 367,
   "metadata": {
    "collapsed": false
   },
   "outputs": [
    {
     "data": {
      "text/plain": [
       "array([ 143.,  144.,  120.,  143.,  141.,  166.,  165.,  140.,  111.,\n",
       "        101.,   98.,   73.,   48.,   94.])"
      ]
     },
     "execution_count": 367,
     "metadata": {},
     "output_type": "execute_result"
    }
   ],
   "source": [
    "pr[1][350]#nyc data"
   ]
  },
  {
   "cell_type": "code",
   "execution_count": 368,
   "metadata": {
    "collapsed": false
   },
   "outputs": [
    {
     "data": {
      "text/plain": [
       "array([ 139.,  142.,  120.,  151.,  140.,  162.,  160.,  141.,  110.,\n",
       "        101.,   97.,   71.,   46.,   92.])"
      ]
     },
     "execution_count": 368,
     "metadata": {},
     "output_type": "execute_result"
    }
   ],
   "source": [
    "p[0][350] #2010 original"
   ]
  },
  {
   "cell_type": "code",
   "execution_count": 429,
   "metadata": {
    "collapsed": false
   },
   "outputs": [
    {
     "data": {
      "text/plain": [
       "array([[   0.,    0.,    0., ...,  180.,   85.,   65.],\n",
       "       [ 267.,  265.,  290., ...,  197.,  218.,  401.],\n",
       "       [ 233.,  266.,  265., ...,  221.,  148.,  277.],\n",
       "       ..., \n",
       "       [ 339.,  397.,  439., ...,  229.,  180.,  285.],\n",
       "       [ 366.,  459.,  492., ...,  248.,  242.,  261.],\n",
       "       [ 206.,  202.,  227., ...,  116.,  119.,  200.]])"
      ]
     },
     "execution_count": 429,
     "metadata": {},
     "output_type": "execute_result"
    }
   ],
   "source": [
    "pr[10]"
   ]
  },
  {
   "cell_type": "code",
   "execution_count": 430,
   "metadata": {
    "collapsed": true
   },
   "outputs": [],
   "source": [
    "import csv\n",
    "csvfile = file('2010_predict.csv', 'wb')\n",
    "writer = csv.writer(csvfile)\n",
    "writer.writerows(pr[10])\n",
    "csvfile.close()"
   ]
  },
  {
   "cell_type": "code",
   "execution_count": null,
   "metadata": {
    "collapsed": true
   },
   "outputs": [],
   "source": []
  }
 ],
 "metadata": {
  "anaconda-cloud": {},
  "kernelspec": {
   "display_name": "Python [default]",
   "language": "python",
   "name": "python2"
  },
  "language_info": {
   "codemirror_mode": {
    "name": "ipython",
    "version": 2
   },
   "file_extension": ".py",
   "mimetype": "text/x-python",
   "name": "python",
   "nbconvert_exporter": "python",
   "pygments_lexer": "ipython2",
   "version": "2.7.12"
  }
 },
 "nbformat": 4,
 "nbformat_minor": 1
}
